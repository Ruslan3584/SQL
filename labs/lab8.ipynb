{
    "metadata": {
        "kernelspec": {
            "name": "SQL",
            "display_name": "SQL",
            "language": "sql"
        },
        "language_info": {
            "name": "sql",
            "version": ""
        }
    },
    "nbformat_minor": 2,
    "nbformat": 4,
    "cells": [
        {
            "cell_type": "markdown",
            "source": [
                "# Ціль: Знайомство з об’єктами СХЕМИ БАЗИ ДАНИХ \r\n",
                "## Створення і використання тригерів\r\n",
                ""
            ],
            "metadata": {
                "azdata_cell_guid": "7f25c71e-5c6d-4a1d-9b1d-e5a2ba3dcdc0"
            }
        },
        {
            "cell_type": "code",
            "source": [
                "USE Accounting;"
            ],
            "metadata": {
                "azdata_cell_guid": "1779a032-fe2b-40fd-9eae-cc8512e5bee1"
            },
            "outputs": [
                {
                    "output_type": "display_data",
                    "data": {
                        "text/html": "Commands completed successfully."
                    },
                    "metadata": {}
                },
                {
                    "output_type": "display_data",
                    "data": {
                        "text/html": "Total execution time: 00:00:00.309"
                    },
                    "metadata": {}
                }
            ],
            "execution_count": 2
        },
        {
            "cell_type": "code",
            "source": [
                "-- тригер на заборону зміни оцінки окрім 'Fx'\r\n",
                "CREATE TRIGGER DeleteResults\r\n",
                "ON Results FOR DELETE\r\n",
                "AS\r\n",
                "IF NOT EXISTS (SELECT mark FROM deleted\r\n",
                "WHERE mark='Fx' )\r\n",
                "BEGIN\r\n",
                "RAISERROR('Неможна виправляти оцінку!!!',16,1)  \r\n",
                "-- Відмова транзакції у випадку помилки\r\n",
                "ROLLBACK TRAN\r\n",
                "END;"
            ],
            "metadata": {
                "azdata_cell_guid": "a5a3793f-bd8b-43c3-8d98-c75da89cb818"
            },
            "outputs": [
                {
                    "output_type": "display_data",
                    "data": {
                        "text/html": "Commands completed successfully."
                    },
                    "metadata": {}
                },
                {
                    "output_type": "display_data",
                    "data": {
                        "text/html": "Total execution time: 00:00:00.132"
                    },
                    "metadata": {}
                }
            ],
            "execution_count": 3
        },
        {
            "cell_type": "code",
            "source": [
                "DROP TRIGGER DeleteResults;"
            ],
            "metadata": {
                "azdata_cell_guid": "3869c3d3-add2-4ad4-8020-704804543768"
            },
            "outputs": [
                {
                    "output_type": "display_data",
                    "data": {
                        "text/html": "Commands completed successfully."
                    },
                    "metadata": {}
                },
                {
                    "output_type": "display_data",
                    "data": {
                        "text/html": "Total execution time: 00:00:00.071"
                    },
                    "metadata": {}
                }
            ],
            "execution_count": 4
        },
        {
            "cell_type": "code",
            "source": [
                "--сумарна таблиця всіх відмінників в першому семестрі \r\n",
                "CREATE VIEW StA\r\n",
                "AS\r\n",
                "SELECT s.name,s.surname,g.group_id FROM Results r\r\n",
                "INNER JOIN Students s \r\n",
                "ON s.student_id=r.student_id\r\n",
                "INNER JOIN Groups g\r\n",
                "ON s.group_id=g.group_id\r\n",
                "WHERE term=1 and mark='5';"
            ],
            "metadata": {
                "azdata_cell_guid": "45f6a29a-e164-4a55-a166-c542471afb11"
            },
            "outputs": [
                {
                    "output_type": "display_data",
                    "data": {
                        "text/html": "Commands completed successfully."
                    },
                    "metadata": {}
                },
                {
                    "output_type": "display_data",
                    "data": {
                        "text/html": "Total execution time: 00:00:00.055"
                    },
                    "metadata": {}
                }
            ],
            "execution_count": 5
        },
        {
            "cell_type": "code",
            "source": [
                "SELECT * FROM StA;"
            ],
            "metadata": {
                "azdata_cell_guid": "31d5c79a-89b4-4517-9635-c81c69c80040"
            },
            "outputs": [
                {
                    "output_type": "display_data",
                    "data": {
                        "text/html": "(3 rows affected)"
                    },
                    "metadata": {}
                },
                {
                    "output_type": "display_data",
                    "data": {
                        "text/html": "Total execution time: 00:00:00.433"
                    },
                    "metadata": {}
                },
                {
                    "output_type": "execute_result",
                    "metadata": {},
                    "execution_count": 6,
                    "data": {
                        "application/vnd.dataresource+json": {
                            "schema": {
                                "fields": [
                                    {
                                        "name": "name"
                                    },
                                    {
                                        "name": "surname"
                                    },
                                    {
                                        "name": "group_id"
                                    }
                                ]
                            },
                            "data": [
                                {
                                    "0": "Ivan",
                                    "1": "ivanov",
                                    "2": "1"
                                },
                                {
                                    "0": "daryna",
                                    "1": "kulyba",
                                    "2": "2"
                                },
                                {
                                    "0": "vasyl",
                                    "1": "symonenko",
                                    "2": "1"
                                }
                            ]
                        },
                        "text/html": "<table><tr><th>name</th><th>surname</th><th>group_id</th></tr><tr><td>Ivan</td><td>ivanov</td><td>1</td></tr><tr><td>daryna</td><td>kulyba</td><td>2</td></tr><tr><td>vasyl</td><td>symonenko</td><td>1</td></tr></table>"
                    }
                }
            ],
            "execution_count": 6
        },
        {
            "cell_type": "code",
            "source": [
                "-- тригер на view : перевірка чи існує такий студент,якщо так,то поставити оцінку '5' інакше вивести повідомлення\r\n",
                "CREATE TRIGGER InsteadOfInsert\r\n",
                "ON StA\r\n",
                "INSTEAD OF INSERT\r\n",
                "AS \r\n",
                "BEGIN\r\n",
                "IF NOT EXISTS(SELECT i.name,i.surname,i.group_id\r\n",
                "FROM inserted i\r\n",
                "INNER JOIN Students s\r\n",
                "ON s.group_id = i.group_id\r\n",
                "WHERE s.name = i.name AND s.surname = i.surname)\r\n",
                "BEGIN\r\n",
                "RAISERROR('Немає такого студента',16,1)  \r\n",
                "-- Відмова транзакції у випадку помилки\r\n",
                "ROLLBACK TRAN\r\n",
                "END\r\n",
                "ELSE\r\n",
                "BEGIN\r\n",
                "UPDATE Results \r\n",
                "SET mark = '5'\r\n",
                "WHERE student_id = (SELECT s.student_id\r\n",
                "FROM Students s \r\n",
                "INNER JOIN inserted i\r\n",
                "ON s.group_id = i.group_id\r\n",
                "WHERE s.name = i.name AND s.surname = i.surname)\r\n",
                "END\r\n",
                "END;\r\n",
                ""
            ],
            "metadata": {
                "azdata_cell_guid": "4c14f039-db76-424c-9126-8c311506a59e"
            },
            "outputs": [
                {
                    "output_type": "display_data",
                    "data": {
                        "text/html": "Commands completed successfully."
                    },
                    "metadata": {}
                },
                {
                    "output_type": "display_data",
                    "data": {
                        "text/html": "Total execution time: 00:00:00.065"
                    },
                    "metadata": {}
                }
            ],
            "execution_count": 7
        },
        {
            "cell_type": "code",
            "source": [
                "DROP TRIGGER InsteadOfInsert;"
            ],
            "metadata": {
                "azdata_cell_guid": "323ad431-f86f-48d1-9758-a3fa601c387c"
            },
            "outputs": [
{
    "output_type": "display_data",
    "data": {
        "text/html": "Commands completed successfully."
    },
    "metadata": {}
}, {
    "output_type": "display_data",
    "data": {
        "text/html": "Total execution time: 00:00:00.017"
    },
    "metadata": {}
}
],
            "execution_count": 8
        }
    ]
}