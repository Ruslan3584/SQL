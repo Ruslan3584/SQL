{
    "metadata": {
        "kernelspec": {
            "name": "SQL",
            "display_name": "SQL",
            "language": "sql"
        },
        "language_info": {
            "name": "sql",
            "version": ""
        }
    },
    "nbformat_minor": 2,
    "nbformat": 4,
    "cells": [
        {
            "cell_type": "markdown",
            "source": [
                "# Ціль: Знайомство з об’єктами СХЕМИ БАЗИ ДАНИХ. Створення і використання представлень.\r\n",
                ""
            ],
            "metadata": {
                "azdata_cell_guid": "3c561386-3f04-4119-a88b-76d4e14eda3e"
            }
        },
        {
            "cell_type": "code",
            "source": [
                "USE Accounting;"
            ],
            "metadata": {
                "azdata_cell_guid": "a247c4b8-567e-4d4a-bc92-170994316d78"
            },
            "outputs": [
                {
                    "output_type": "display_data",
                    "data": {
                        "text/html": "Commands completed successfully."
                    },
                    "metadata": {}
                },
                {
                    "output_type": "display_data",
                    "data": {
                        "text/html": "Total execution time: 00:00:00.001"
                    },
                    "metadata": {}
                }
            ],
            "execution_count": 2
        },
        {
            "cell_type": "code",
            "source": [
                "--студенти які здали сесію в першому семестрі на 5 \r\n",
                "CREATE VIEW vStudentMark5 \r\n",
                "AS \r\n",
                "SELECT s.student_id,name,surname FROM Students s\r\n",
                "INNER JOIN Results r\r\n",
                "ON s.student_id = r.student_id\r\n",
                "WHERE term = 1 AND mark = '5';"
            ],
            "metadata": {
                "azdata_cell_guid": "b6f31d6c-655a-4114-ba5f-8e272bbcee5e",
                "tags": []
            },
            "outputs": [
                {
                    "output_type": "display_data",
                    "data": {
                        "text/html": "Commands completed successfully."
                    },
                    "metadata": {}
                },
                {
                    "output_type": "display_data",
                    "data": {
                        "text/html": "Total execution time: 00:00:00.025"
                    },
                    "metadata": {}
                }
            ],
            "execution_count": 3
        },
        {
            "cell_type": "code",
            "source": [
                "SELECT * FROM vStudentMark5;"
            ],
            "metadata": {
                "azdata_cell_guid": "ff9e4928-e753-4e5a-aa2d-1fbe862d247c"
            },
            "outputs": [
                {
                    "output_type": "display_data",
                    "data": {
                        "text/html": "(3 rows affected)"
                    },
                    "metadata": {}
                },
                {
                    "output_type": "display_data",
                    "data": {
                        "text/html": "Total execution time: 00:00:00.027"
                    },
                    "metadata": {}
                },
                {
                    "output_type": "execute_result",
                    "metadata": {},
                    "execution_count": 4,
                    "data": {
                        "application/vnd.dataresource+json": {
                            "schema": {
                                "fields": [
                                    {
                                        "name": "student_id"
                                    },
                                    {
                                        "name": "name"
                                    },
                                    {
                                        "name": "surname"
                                    }
                                ]
                            },
                            "data": [
                                {
                                    "0": "1",
                                    "1": "Ivan",
                                    "2": "ivanov"
                                },
                                {
                                    "0": "5",
                                    "1": "daryna",
                                    "2": "kulyba"
                                },
                                {
                                    "0": "10",
                                    "1": "vasyl",
                                    "2": "symonenko"
                                }
                            ]
                        },
                        "text/html": "<table><tr><th>student_id</th><th>name</th><th>surname</th></tr><tr><td>1</td><td>Ivan</td><td>ivanov</td></tr><tr><td>5</td><td>daryna</td><td>kulyba</td></tr><tr><td>10</td><td>vasyl</td><td>symonenko</td></tr></table>"
                    }
                }
            ],
            "execution_count": 4
        },
        {
            "cell_type": "code",
            "source": [
                "--сума стипендій по групах\r\n",
                "CREATE VIEW SumGroup\r\n",
                "AS\r\n",
                "SELECT sum(category) sum1,g.group_id FROM Results r\r\n",
                "INNER JOIN Category c\r\n",
                "ON r.mark = c.mark\r\n",
                "INNER JOIN Students s \r\n",
                "ON s.student_id = r.student_id\r\n",
                "INNER JOIN Groups g\r\n",
                "ON s.group_id = g.group_id\r\n",
                "WHERE term = 1\r\n",
                "Group BY g.group_id;"
            ],
            "metadata": {
                "azdata_cell_guid": "86a353bf-3729-4e27-9bc9-664e281d2f8c"
            },
            "outputs": [
                {
                    "output_type": "display_data",
                    "data": {
                        "text/html": "Commands completed successfully."
                    },
                    "metadata": {}
                },
                {
                    "output_type": "display_data",
                    "data": {
                        "text/html": "Total execution time: 00:00:00.023"
                    },
                    "metadata": {}
                }
            ],
            "execution_count": 5
        },
        {
            "cell_type": "code",
            "source": [
                "SELECT * FROM SumGroup;"
            ],
            "metadata": {
                "azdata_cell_guid": "e3f951d0-70a1-40f3-927e-4f29876e453b"
            },
            "outputs": [
                {
                    "output_type": "display_data",
                    "data": {
                        "text/html": "(2 rows affected)"
                    },
                    "metadata": {}
                },
                {
                    "output_type": "display_data",
                    "data": {
                        "text/html": "Total execution time: 00:00:00.048"
                    },
                    "metadata": {}
                },
                {
                    "output_type": "execute_result",
                    "metadata": {},
                    "execution_count": 8,
                    "data": {
                        "application/vnd.dataresource+json": {
                            "schema": {
                                "fields": [
                                    {
                                        "name": "sum1"
                                    },
                                    {
                                        "name": "group_id"
                                    }
                                ]
                            },
                            "data": [
                                {
                                    "0": "8202.8000",
                                    "1": "1"
                                },
                                {
                                    "0": "5100.9000",
                                    "1": "2"
                                }
                            ]
                        },
                        "text/html": "<table><tr><th>sum1</th><th>group_id</th></tr><tr><td>8202.8000</td><td>1</td></tr><tr><td>5100.9000</td><td>2</td></tr></table>"
                    }
                }
            ],
            "execution_count": 8
        },
        {
            "cell_type": "code",
            "source": [
                "--розмір призначеної стипендії студентам за групами\r\n",
                "CREATE VIEW StudentSum\r\n",
                "AS\r\n",
                "SELECT name,g.group_id,category FROM Results r\r\n",
                "INNER JOIN Category c\r\n",
                "ON r.mark = c.mark\r\n",
                "INNER JOIN Students s \r\n",
                "ON s.student_id = r.student_id\r\n",
                "INNER JOIN Groups g\r\n",
                "ON s.group_id = g.group_id\r\n",
                "WHERE term = 1;"
            ],
            "metadata": {
                "azdata_cell_guid": "d883104f-b6f8-4747-8546-0d1b2cc5805a"
            },
            "outputs": [
                {
                    "output_type": "display_data",
                    "data": {
                        "text/html": "Commands completed successfully."
                    },
                    "metadata": {}
                },
                {
                    "output_type": "display_data",
                    "data": {
                        "text/html": "Total execution time: 00:00:00.024"
                    },
                    "metadata": {}
                }
            ],
            "execution_count": 7
        },
        {
            "cell_type": "code",
            "source": [
                "SELECT * FROM StudentSum;"
            ],
            "metadata": {
                "azdata_cell_guid": "49703259-17f2-4657-acd9-54dc12dc287e"
            },
            "outputs": [
                {
                    "output_type": "display_data",
                    "data": {
                        "text/html": "(12 rows affected)"
                    },
                    "metadata": {}
                },
                {
                    "output_type": "display_data",
                    "data": {
                        "text/html": "Total execution time: 00:00:00.950"
                    },
                    "metadata": {}
                },
                {
                    "output_type": "execute_result",
                    "metadata": {},
                    "execution_count": 9,
                    "data": {
                        "application/vnd.dataresource+json": {
                            "schema": {
                                "fields": [
                                    {
                                        "name": "name"
                                    },
                                    {
                                        "name": "group_id"
                                    },
                                    {
                                        "name": "category"
                                    }
                                ]
                            },
                            "data": [
                                {
                                    "0": "Ivan",
                                    "1": "1",
                                    "2": "1800.9000"
                                },
                                {
                                    "0": "ivan",
                                    "1": "1",
                                    "2": "1200.5000"
                                },
                                {
                                    "0": "vadym",
                                    "1": "1",
                                    "2": "1100.0000"
                                },
                                {
                                    "0": "eugen",
                                    "1": "1",
                                    "2": "0.0000"
                                },
                                {
                                    "0": "daryna",
                                    "1": "2",
                                    "2": "1800.9000"
                                },
                                {
                                    "0": "sergii",
                                    "1": "2",
                                    "2": "1100.0000"
                                },
                                {
                                    "0": "maksym",
                                    "1": "2",
                                    "2": "1100.0000"
                                },
                                {
                                    "0": "olena",
                                    "1": "1",
                                    "2": "1200.5000"
                                },
                                {
                                    "0": "mykyta",
                                    "1": "1",
                                    "2": "1100.0000"
                                },
                                {
                                    "0": "vasyl",
                                    "1": "1",
                                    "2": "1800.9000"
                                },
                                {
                                    "0": "petro",
                                    "1": "1",
                                    "2": "0.0000"
                                },
                                {
                                    "0": "volodymyr",
                                    "1": "2",
                                    "2": "1100.0000"
                                }
                            ]
                        },
                        "text/html": "<table><tr><th>name</th><th>group_id</th><th>category</th></tr><tr><td>Ivan</td><td>1</td><td>1800.9000</td></tr><tr><td>ivan</td><td>1</td><td>1200.5000</td></tr><tr><td>vadym</td><td>1</td><td>1100.0000</td></tr><tr><td>eugen</td><td>1</td><td>0.0000</td></tr><tr><td>daryna</td><td>2</td><td>1800.9000</td></tr><tr><td>sergii</td><td>2</td><td>1100.0000</td></tr><tr><td>maksym</td><td>2</td><td>1100.0000</td></tr><tr><td>olena</td><td>1</td><td>1200.5000</td></tr><tr><td>mykyta</td><td>1</td><td>1100.0000</td></tr><tr><td>vasyl</td><td>1</td><td>1800.9000</td></tr><tr><td>petro</td><td>1</td><td>0.0000</td></tr><tr><td>volodymyr</td><td>2</td><td>1100.0000</td></tr></table>"
                    }
                }
            ],
            "execution_count": 9
        },
        {
            "cell_type": "code",
            "source": [
                "--не можна вставити значення в таблицю Students (незмінювані view)\r\n",
                "CREATE VIEW StudentNoInsert\r\n",
                "AS\r\n",
                "SELECT name,surname,group_id\r\n",
                "FROM Students;"
            ],
            "metadata": {
                "azdata_cell_guid": "38c28b92-b52f-4703-a797-07b4a2775440"
            },
            "outputs": [
                {
                    "output_type": "display_data",
                    "data": {
                        "text/html": "Commands completed successfully."
                    },
                    "metadata": {}
                },
                {
                    "output_type": "display_data",
                    "data": {
                        "text/html": "Total execution time: 00:00:00.007"
                    },
                    "metadata": {}
                }
            ],
            "execution_count": 11
        },
        {
            "cell_type": "code",
            "source": [
                "-- демонстрація того що дане в дане view не можна вставляти значення \r\n",
                "INSERT INTO StudentNoInsert\r\n",
                "VALUES ('Василь','Симоненко',2);"
            ],
            "metadata": {
                "azdata_cell_guid": "d85276d8-ae7d-4894-9250-aae08c4c961f"
            },
            "outputs": [
                {
                    "output_type": "error",
                    "evalue": "Msg 515, Level 16, State 2, Line 2\r\nCannot insert the value NULL into column 'patronymic', table 'Accounting.dbo.Students'; column does not allow nulls. INSERT fails.",
                    "ename": "",
                    "traceback": []
                },
                {
                    "output_type": "display_data",
                    "data": {
                        "text/html": "The statement has been terminated."
                    },
                    "metadata": {}
                },
                {
                    "output_type": "display_data",
                    "data": {
                        "text/html": "Total execution time: 00:00:00.012"
                    },
                    "metadata": {}
                }
            ],
            "execution_count": 13
        },
        {
            "cell_type": "markdown",
            "source": [
                "# Додаткове завдання"
            ],
            "metadata": {
                "azdata_cell_guid": "b508b95a-163b-4363-88c8-005dbe1bf92e"
            }
        },
        {
            "cell_type": "code",
            "source": [
                "--група в якій найбільше відмінників \r\n",
                "SELECT g.group_id,count(s.student_id) count1 FROM Students s\r\n",
                "INNER JOIN Results r\r\n",
                "ON s.student_id=r.student_id\r\n",
                "INNER JOIN Groups g \r\n",
                "ON s.Group_id=g.group_id\r\n",
                "WHERE term=1 and mark='5' \r\n",
                "group by g.group_id\r\n",
                "having count(s.student_id)=(\r\n",
                "Select max(mycount) m from(\r\n",
                "SELECT count(s.student_id) mycount FROM Students s\r\n",
                "INNER JOIN Results r\r\n",
                "ON s.student_id=r.student_id\r\n",
                "INNER JOIN Groups g \r\n",
                "ON s.Group_id=g.group_id\r\n",
                "WHERE term=1 and mark='5' \r\n",
                "group by g.group_id) m)"
            ],
            "metadata": {
                "azdata_cell_guid": "7bb8752d-1a14-488c-ab13-6a44f3aa924a"
            },
            "outputs": [
                {
                    "output_type": "display_data",
                    "data": {
                        "text/html": "(1 row affected)"
                    },
                    "metadata": {}
                },
                {
                    "output_type": "display_data",
                    "data": {
                        "text/html": "Total execution time: 00:00:00.099"
                    },
                    "metadata": {}
                },
                {
                    "output_type": "execute_result",
                    "metadata": {},
                    "execution_count": 14,
                    "data": {
                        "application/vnd.dataresource+json": {
                            "schema": {
                                "fields": [
                                    {
                                        "name": "group_id"
                                    },
                                    {
                                        "name": "count1"
                                    }
                                ]
                            },
                            "data": [
                                {
                                    "0": "1",
                                    "1": "2"
                                }
                            ]
                        },
                        "text/html": "<table><tr><th>group_id</th><th>count1</th></tr><tr><td>1</td><td>2</td></tr></table>"
                    }
                }
            ],
            "execution_count": 14
        }
    ]
}