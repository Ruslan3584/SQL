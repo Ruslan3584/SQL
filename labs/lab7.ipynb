{
    "metadata": {
        "kernelspec": {
            "name": "SQL",
            "display_name": "SQL",
            "language": "sql"
        },
        "language_info": {
            "name": "sql",
            "version": ""
        }
    },
    "nbformat_minor": 2,
    "nbformat": 4,
    "cells": [
        {
            "cell_type": "markdown",
            "source": [
                "# Ціль: Знайомство з об’єктами СХЕМИ БАЗИ ДАНИХ \r\n",
                "## Створення і використання збережених процедур\r\n",
                ""
            ],
            "metadata": {
                "azdata_cell_guid": "601977c5-74b2-42c9-858a-b8679e52796f"
            }
        },
        {
            "cell_type": "code",
            "source": [
                "USE Accounting;"
            ],
            "metadata": {
                "azdata_cell_guid": "b04620d4-998e-4ae4-b2c4-021f0f137995"
            },
            "outputs": [
                {
                    "output_type": "display_data",
                    "data": {
                        "text/html": "Commands completed successfully."
                    },
                    "metadata": {}
                },
                {
                    "output_type": "display_data",
                    "data": {
                        "text/html": "Total execution time: 00:00:00.001"
                    },
                    "metadata": {}
                }
            ],
            "execution_count": 1
        },
        {
            "cell_type": "code",
            "source": [
                "-- сума стипендії для заданого студента\r\n",
                "CREATE PROC PStudent(\r\n",
                "\t  @sname VARCHAR(35),\r\n",
                "\t  @ssurname VARCHAR(35),\r\n",
                "\t  @spatronymic VARCHAR(35))\r\n",
                "AS\r\n",
                "-- перевірка чи студент існує\r\n",
                "IF  NOT EXISTS (SELECT s.name,s.surname,s.patronymic FROM Students s\r\n",
                "WHERE s.name=@sname and s.surname=@ssurname and s.patronymic=@spatronymic)\r\n",
                "SELECT 'Student does not exist' AS RESULT\r\n",
                "ELSE\r\n",
                "SELECT c.category FROM Students s\r\n",
                "INNER JOIN Results r\r\n",
                "ON s.student_id=r.student_id\r\n",
                "INNER JOIN Category c\r\n",
                "ON r.mark=c.mark\r\n",
                "WHERE term = 1 AND s.name = @sname AND s.surname = @ssurname AND s.patronymic = @spatronymic;"
            ],
            "metadata": {
                "azdata_cell_guid": "bc03804d-48ad-41ba-80f1-77ab490ce41a"
            },
            "outputs": [
                {
                    "output_type": "display_data",
                    "data": {
                        "text/html": "Commands completed successfully."
                    },
                    "metadata": {}
                },
                {
                    "output_type": "display_data",
                    "data": {
                        "text/html": "Total execution time: 00:00:00.008"
                    },
                    "metadata": {}
                }
            ],
            "execution_count": 14
        },
        {
            "cell_type": "code",
            "source": [
                "EXEC PStudent 'ivan','ivanov','ivanovych'\r\n",
                "DROP PROC PStudent;"
            ],
            "metadata": {
                "azdata_cell_guid": "d5c52bc7-7941-4bd4-9d02-366eabc98bdc",
                "tags": []
            },
            "outputs": [
                {
                    "output_type": "display_data",
                    "data": {
                        "text/html": "(1 row affected)"
                    },
                    "metadata": {}
                },
                {
                    "output_type": "display_data",
                    "data": {
                        "text/html": "Total execution time: 00:00:00.047"
                    },
                    "metadata": {}
                },
                {
                    "output_type": "execute_result",
                    "metadata": {},
                    "execution_count": 15,
                    "data": {
                        "application/vnd.dataresource+json": {
                            "schema": {
                                "fields": [
                                    {
                                        "name": "category"
                                    }
                                ]
                            },
                            "data": [
                                {
                                    "0": "1800.9000"
                                }
                            ]
                        },
                        "text/html": "<table><tr><th>category</th></tr><tr><td>1800.9000</td></tr></table>"
                    }
                }
            ],
            "execution_count": 15
        },
        {
            "cell_type": "code",
            "source": [
                "--додати нового студента в базу \r\n",
                "CREATE PROC InsertStudent(\r\n",
                "\t  @sname VARCHAR(35),\r\n",
                "\t  @ssurname VARCHAR(35),\r\n",
                "\t  @spatronymic VARCHAR(35),\r\n",
                "\t  @group_id INT)\r\n",
                "AS\r\n",
                "BEGIN\r\n",
                "-- перевірка чи істнує такий студент,якщо так то вивести відповідне повідомлення\r\n",
                "IF EXISTS (SELECT s.name,s.surname,s.patronymic FROM Students s\r\n",
                "WHERE  s.name=@sname and s.surname=@ssurname and s.patronymic=@spatronymic)\r\n",
                "SELECT 'Student already exists' AS RESULT \r\n",
                "ELSE\r\n",
                "INSERT INTO Students\r\n",
                "VALUES (@sname,@ssurname,@spatronymic,@group_id)\r\n",
                "END;\r\n",
                ""
            ],
            "metadata": {
                "azdata_cell_guid": "5505f70f-b990-411a-86f5-3deb21e051f2"
            },
            "outputs": [
                {
                    "output_type": "display_data",
                    "data": {
                        "text/html": "Commands completed successfully."
                    },
                    "metadata": {}
                },
                {
                    "output_type": "display_data",
                    "data": {
                        "text/html": "Total execution time: 00:00:00.041"
                    },
                    "metadata": {}
                }
            ],
            "execution_count": 16
        },
        {
            "cell_type": "code",
            "source": [
                "EXEC InsertStudent 'Vasyl','Vasyliovych','Vasylenko',2"
            ],
            "metadata": {
                "azdata_cell_guid": "ca440502-83a8-45c7-944c-72e124c9d2c0"
            },
            "outputs": [
                {
                    "output_type": "display_data",
                    "data": {
                        "text/html": "(1 row affected)"
                    },
                    "metadata": {}
                },
                {
                    "output_type": "display_data",
                    "data": {
                        "text/html": "Total execution time: 00:00:00.062"
                    },
                    "metadata": {}
                }
            ],
            "execution_count": 17
        },
        {
            "cell_type": "code",
            "source": [
                "-- такий студент вже існуємає вивести повідомлення про це\r\n",
                "EXEC InsertStudent 'Vasyl','Vasyliovych','Vasylenko',2"
            ],
            "metadata": {
                "azdata_cell_guid": "8d39474c-5786-4627-9174-3219afa43a6c"
            },
            "outputs": [
                {
                    "output_type": "display_data",
                    "data": {
                        "text/html": "(1 row affected)"
                    },
                    "metadata": {}
                },
                {
                    "output_type": "display_data",
                    "data": {
                        "text/html": "Total execution time: 00:00:00.032"
                    },
                    "metadata": {}
                },
                {
                    "output_type": "execute_result",
                    "metadata": {},
                    "execution_count": 18,
                    "data": {
                        "application/vnd.dataresource+json": {
                            "schema": {
                                "fields": [
                                    {
                                        "name": "RESULT"
                                    }
                                ]
                            },
                            "data": [
                                {
                                    "0": "Student already exists"
                                }
                            ]
                        },
                        "text/html": "<table><tr><th>RESULT</th></tr><tr><td>Student already exists</td></tr></table>"
                    }
                }
            ],
            "execution_count": 18
        },
        {
            "cell_type": "code",
            "source": [
                "DROP PROC InsertStudent;"
            ],
            "metadata": {
                "azdata_cell_guid": "00a84ac9-235d-4a92-bb6b-0bfce045deca"
            },
            "outputs": [
{
    "output_type": "display_data",
    "data": {
        "text/html": "Commands completed successfully."
    },
    "metadata": {}
}, {
    "output_type": "display_data",
    "data": {
        "text/html": "Total execution time: 00:00:00.006"
    },
    "metadata": {}
}
],
            "execution_count": 19
        }
    ]
}