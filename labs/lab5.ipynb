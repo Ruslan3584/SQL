{
    "metadata": {
        "kernelspec": {
            "name": "SQL",
            "display_name": "SQL",
            "language": "sql"
        },
        "language_info": {
            "name": "sql",
            "version": ""
        }
    },
    "nbformat_minor": 2,
    "nbformat": 4,
    "cells": [
        {
            "cell_type": "markdown",
            "source": [
                "# Ціль: Вивчити класифікацію підзапитів і правила їх формування.\r\n",
                ""
            ],
            "metadata": {
                "azdata_cell_guid": "96c175d8-c94c-4da6-8cef-7e675ba5ad83"
            }
        },
        {
            "cell_type": "code",
            "source": [
                "USE Accounting;"
            ],
            "metadata": {
                "azdata_cell_guid": "3f15f48b-9067-46f9-999d-c6ac8b429509"
            },
            "outputs": [
                {
                    "output_type": "display_data",
                    "data": {
                        "text/html": "Commands completed successfully."
                    },
                    "metadata": {}
                },
                {
                    "output_type": "display_data",
                    "data": {
                        "text/html": "Total execution time: 00:00:00.004"
                    },
                    "metadata": {}
                }
            ],
            "execution_count": 1
        },
        {
            "cell_type": "code",
            "source": [
                "--середня стипендія по групах\r\n",
                "SELECT avg(category) sum1,g.group_id FROM Results r\r\n",
                "INNER JOIN Category c\r\n",
                "ON r.mark=c.mark\r\n",
                "INNER JOIN Students s \r\n",
                "ON s.student_id=r.student_id\r\n",
                "INNER JOIN Groups g\r\n",
                "ON s.group_id=g.group_id\r\n",
                "WHERE term=1\r\n",
                "GROUP BY g.group_id\r\n",
                ""
            ],
            "metadata": {
                "azdata_cell_guid": "b21f502e-098c-4837-9f4a-3c455c7a6ba7"
            },
            "outputs": [
                {
                    "output_type": "display_data",
                    "data": {
                        "text/html": "(2 rows affected)"
                    },
                    "metadata": {}
                },
                {
                    "output_type": "display_data",
                    "data": {
                        "text/html": "Total execution time: 00:00:00.086"
                    },
                    "metadata": {}
                },
                {
                    "output_type": "execute_result",
                    "metadata": {},
                    "execution_count": 2,
                    "data": {
                        "application/vnd.dataresource+json": {
                            "schema": {
                                "fields": [
                                    {
                                        "name": "sum1"
                                    },
                                    {
                                        "name": "group_id"
                                    }
                                ]
                            },
                            "data": [
                                {
                                    "0": "1025.350000",
                                    "1": "1"
                                },
                                {
                                    "0": "1275.225000",
                                    "1": "2"
                                }
                            ]
                        },
                        "text/html": "<table><tr><th>sum1</th><th>group_id</th></tr><tr><td>1025.350000</td><td>1</td></tr><tr><td>1275.225000</td><td>2</td></tr></table>"
                    }
                }
            ],
            "execution_count": 2
        },
        {
            "cell_type": "code",
            "source": [
                "--студенти+стипендія\r\n",
                "SELECT s.student_id,name,c.category FROM Students s\r\n",
                "INNER JOIN Results r\r\n",
                "ON s.student_id=r.student_id\r\n",
                "INNER JOIN Category c\r\n",
                "ON r.mark=c.mark\r\n",
                "WHERE term=1"
            ],
            "metadata": {
                "azdata_cell_guid": "671990b3-28e4-4b72-ab9e-967e1056956f"
            },
            "outputs": [
                {
                    "output_type": "display_data",
                    "data": {
                        "text/html": "(12 rows affected)"
                    },
                    "metadata": {}
                },
                {
                    "output_type": "display_data",
                    "data": {
                        "text/html": "Total execution time: 00:00:00.062"
                    },
                    "metadata": {}
                },
                {
                    "output_type": "execute_result",
                    "metadata": {},
                    "execution_count": 3,
                    "data": {
                        "application/vnd.dataresource+json": {
                            "schema": {
                                "fields": [
                                    {
                                        "name": "student_id"
                                    },
                                    {
                                        "name": "name"
                                    },
                                    {
                                        "name": "category"
                                    }
                                ]
                            },
                            "data": [
                                {
                                    "0": "1",
                                    "1": "Ivan",
                                    "2": "1800.9000"
                                },
                                {
                                    "0": "2",
                                    "1": "ivan",
                                    "2": "1200.5000"
                                },
                                {
                                    "0": "3",
                                    "1": "vadym",
                                    "2": "1100.0000"
                                },
                                {
                                    "0": "4",
                                    "1": "eugen",
                                    "2": "0.0000"
                                },
                                {
                                    "0": "5",
                                    "1": "daryna",
                                    "2": "1800.9000"
                                },
                                {
                                    "0": "6",
                                    "1": "sergii",
                                    "2": "1100.0000"
                                },
                                {
                                    "0": "7",
                                    "1": "maksym",
                                    "2": "1100.0000"
                                },
                                {
                                    "0": "8",
                                    "1": "olena",
                                    "2": "1200.5000"
                                },
                                {
                                    "0": "9",
                                    "1": "mykyta",
                                    "2": "1100.0000"
                                },
                                {
                                    "0": "10",
                                    "1": "vasyl",
                                    "2": "1800.9000"
                                },
                                {
                                    "0": "11",
                                    "1": "petro",
                                    "2": "0.0000"
                                },
                                {
                                    "0": "12",
                                    "1": "volodymyr",
                                    "2": "1100.0000"
                                }
                            ]
                        },
                        "text/html": "<table><tr><th>student_id</th><th>name</th><th>category</th></tr><tr><td>1</td><td>Ivan</td><td>1800.9000</td></tr><tr><td>2</td><td>ivan</td><td>1200.5000</td></tr><tr><td>3</td><td>vadym</td><td>1100.0000</td></tr><tr><td>4</td><td>eugen</td><td>0.0000</td></tr><tr><td>5</td><td>daryna</td><td>1800.9000</td></tr><tr><td>6</td><td>sergii</td><td>1100.0000</td></tr><tr><td>7</td><td>maksym</td><td>1100.0000</td></tr><tr><td>8</td><td>olena</td><td>1200.5000</td></tr><tr><td>9</td><td>mykyta</td><td>1100.0000</td></tr><tr><td>10</td><td>vasyl</td><td>1800.9000</td></tr><tr><td>11</td><td>petro</td><td>0.0000</td></tr><tr><td>12</td><td>volodymyr</td><td>1100.0000</td></tr></table>"
                    }
                }
            ],
            "execution_count": 3
        },
        {
            "cell_type": "code",
            "source": [
                "--студенти стипендія яких вища за середню по групі\r\n",
                "SELECT s.student_id,name,c.category FROM Students s\r\n",
                "INNER JOIN Results r\r\n",
                "ON s.student_id=r.student_id\r\n",
                "INNER JOIN Category c\r\n",
                "ON r.mark=c.mark\r\n",
                "INNER JOIN \r\n",
                "(SELECT avg(category) avg1,g.group_id FROM Results r\r\n",
                "INNER JOIN Category c\r\n",
                "ON r.mark=c.mark\r\n",
                "INNER JOIN Students s \r\n",
                "ON s.student_id=r.student_id\r\n",
                "INNER JOIN Groups g\r\n",
                "ON s.group_id=g.group_id\r\n",
                "WHERE term=1\r\n",
                "GROUP BY g.group_id) b\r\n",
                "ON b.group_id=s.group_id\r\n",
                "WHERE term=1 AND c.category > avg1\r\n",
                ""
            ],
            "metadata": {
                "azdata_cell_guid": "cacd36c1-8f2c-4c22-9704-de997901dcdc"
            },
            "outputs": [
                {
                    "output_type": "display_data",
                    "data": {
                        "text/html": "(7 rows affected)"
                    },
                    "metadata": {}
                },
                {
                    "output_type": "display_data",
                    "data": {
                        "text/html": "Total execution time: 00:00:00.136"
                    },
                    "metadata": {}
                },
                {
                    "output_type": "execute_result",
                    "metadata": {},
                    "execution_count": 4,
                    "data": {
                        "application/vnd.dataresource+json": {
                            "schema": {
                                "fields": [
                                    {
                                        "name": "student_id"
                                    },
                                    {
                                        "name": "name"
                                    },
                                    {
                                        "name": "category"
                                    }
                                ]
                            },
                            "data": [
                                {
                                    "0": "1",
                                    "1": "Ivan",
                                    "2": "1800.9000"
                                },
                                {
                                    "0": "2",
                                    "1": "ivan",
                                    "2": "1200.5000"
                                },
                                {
                                    "0": "3",
                                    "1": "vadym",
                                    "2": "1100.0000"
                                },
                                {
                                    "0": "5",
                                    "1": "daryna",
                                    "2": "1800.9000"
                                },
                                {
                                    "0": "8",
                                    "1": "olena",
                                    "2": "1200.5000"
                                },
                                {
                                    "0": "9",
                                    "1": "mykyta",
                                    "2": "1100.0000"
                                },
                                {
                                    "0": "10",
                                    "1": "vasyl",
                                    "2": "1800.9000"
                                }
                            ]
                        },
                        "text/html": "<table><tr><th>student_id</th><th>name</th><th>category</th></tr><tr><td>1</td><td>Ivan</td><td>1800.9000</td></tr><tr><td>2</td><td>ivan</td><td>1200.5000</td></tr><tr><td>3</td><td>vadym</td><td>1100.0000</td></tr><tr><td>5</td><td>daryna</td><td>1800.9000</td></tr><tr><td>8</td><td>olena</td><td>1200.5000</td></tr><tr><td>9</td><td>mykyta</td><td>1100.0000</td></tr><tr><td>10</td><td>vasyl</td><td>1800.9000</td></tr></table>"
                    }
                }
            ],
            "execution_count": 4
        },
        {
            "cell_type": "code",
            "source": [
                "--ті студенти в 2-му семестрі в яких стипендія більша за середню в 2-му семестрі \r\n",
                "SELECT name,surname,category FROM Students s\r\n",
                "INNER JOIN Results r \r\n",
                "ON s.student_id=r.student_id \r\n",
                "INNER JOIN Category c \r\n",
                "ON r.mark=c.mark\r\n",
                "WHERE term=2 and c.category>(SELECT avg(category)  FROM Results r\r\n",
                "INNER JOIN Category c\r\n",
                "ON r.mark=c.mark\r\n",
                "INNER JOIN Students s \r\n",
                "ON s.student_id=r.student_id\r\n",
                "WHERE term=2)"
            ],
            "metadata": {
                "azdata_cell_guid": "d29ef61b-06aa-4f67-814a-5fe84ddf55c9"
            },
            "outputs": [
                {
                    "output_type": "display_data",
                    "data": {
                        "text/html": "(0 rows affected)"
                    },
                    "metadata": {}
                },
                {
                    "output_type": "display_data",
                    "data": {
                        "text/html": "Total execution time: 00:00:00.110"
                    },
                    "metadata": {}
                },
                {
                    "output_type": "execute_result",
                    "metadata": {},
                    "execution_count": 5,
                    "data": {
                        "application/vnd.dataresource+json": {
                            "schema": {
                                "fields": [
                                    {
                                        "name": "name"
                                    },
                                    {
                                        "name": "surname"
                                    },
                                    {
                                        "name": "category"
                                    }
                                ]
                            },
                            "data": []
                        },
                        "text/html": "<table><tr><th>name</th><th>surname</th><th>category</th></tr></table>"
                    }
                }
            ],
            "execution_count": 5
        },
        {
            "cell_type": "code",
            "source": [
                "--студенти які здали на 5 в 1-му семестрі \r\n",
                "SELECT s.student_id,name,surname FROM Students s\r\n",
                "INNER JOIN Results r\r\n",
                "ON s.student_id=r.student_id\r\n",
                "WHERE term=1 and mark='5'"
            ],
            "metadata": {
                "azdata_cell_guid": "699565b2-f5aa-4c42-883c-e318ed335a45"
            },
            "outputs": [
                {
                    "output_type": "display_data",
                    "data": {
                        "text/html": "(3 rows affected)"
                    },
                    "metadata": {}
                },
                {
                    "output_type": "display_data",
                    "data": {
                        "text/html": "Total execution time: 00:00:00.031"
                    },
                    "metadata": {}
                },
                {
                    "output_type": "execute_result",
                    "metadata": {},
                    "execution_count": 6,
                    "data": {
                        "application/vnd.dataresource+json": {
                            "schema": {
                                "fields": [
                                    {
                                        "name": "student_id"
                                    },
                                    {
                                        "name": "name"
                                    },
                                    {
                                        "name": "surname"
                                    }
                                ]
                            },
                            "data": [
                                {
                                    "0": "1",
                                    "1": "Ivan",
                                    "2": "ivanov"
                                },
                                {
                                    "0": "5",
                                    "1": "daryna",
                                    "2": "kulyba"
                                },
                                {
                                    "0": "10",
                                    "1": "vasyl",
                                    "2": "symonenko"
                                }
                            ]
                        },
                        "text/html": "<table><tr><th>student_id</th><th>name</th><th>surname</th></tr><tr><td>1</td><td>Ivan</td><td>ivanov</td></tr><tr><td>5</td><td>daryna</td><td>kulyba</td></tr><tr><td>10</td><td>vasyl</td><td>symonenko</td></tr></table>"
                    }
                }
            ],
            "execution_count": 6
        },
        {
            "cell_type": "code",
            "source": [
                ""
            ],
            "metadata": {
                "azdata_cell_guid": "8792a7fa-29b1-4c0f-91cf-c7fff7c6a25f"
            },
            "outputs": [],
            "execution_count": 0
        }
    ]
}