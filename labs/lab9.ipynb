{
    "metadata": {
        "kernelspec": {
            "name": "SQL",
            "display_name": "SQL",
            "language": "sql"
        },
        "language_info": {
            "name": "sql",
            "version": ""
        }
    },
    "nbformat_minor": 2,
    "nbformat": 4,
    "cells": [
        {
            "cell_type": "markdown",
            "source": [
                "# Ціль: Набуття навичок налаштування системи безпеки MS SQL Server\r\n",
                ""
            ],
            "metadata": {
                "azdata_cell_guid": "b7737ce6-d61e-42ca-8b03-f35e4b594708"
            }
        },
        {
            "cell_type": "code",
            "source": [
                "USE Accounting;"
            ],
            "metadata": {
                "azdata_cell_guid": "944ecba2-6edd-4bda-a475-3e4e0703732a"
            },
            "outputs": [
                {
                    "output_type": "display_data",
                    "data": {
                        "text/html": "Commands completed successfully."
                    },
                    "metadata": {}
                },
                {
                    "output_type": "display_data",
                    "data": {
                        "text/html": "Total execution time: 00:00:00.001"
                    },
                    "metadata": {}
                }
            ],
            "execution_count": 1
        },
        {
            "cell_type": "code",
            "source": [
                "--1. Створити новий обліковий запис;\r\n",
                "CREATE LOGIN new_log1 WITH PASSWORD ='1234';\r\n",
                "USE Accounting;\r\n",
                "GO\r\n",
                "\r\n",
                "CREATE USER new_log1 FOR LOGIN new_log1;\r\n",
                "SELECT HAS_DBACCESS('Accounting') users;"
            ],
            "metadata": {
                "azdata_cell_guid": "2364a9e2-c1d2-4b6d-928e-6e8eb81c2009"
            },
            "outputs": [
                {
                    "output_type": "display_data",
                    "data": {
                        "text/html": "Commands completed successfully."
                    },
                    "metadata": {}
                },
                {
                    "output_type": "display_data",
                    "data": {
                        "text/html": "(1 row affected)"
                    },
                    "metadata": {}
                },
                {
                    "output_type": "display_data",
                    "data": {
                        "text/html": "Total execution time: 00:00:00.130"
                    },
                    "metadata": {}
                },
                {
                    "output_type": "execute_result",
                    "metadata": {},
                    "execution_count": 3,
                    "data": {
                        "application/vnd.dataresource+json": {
                            "schema": {
                                "fields": [
                                    {
                                        "name": "users"
                                    }
                                ]
                            },
                            "data": [
                                {
                                    "0": "1"
                                }
                            ]
                        },
                        "text/html": "<table><tr><th>users</th></tr><tr><td>1</td></tr></table>"
                    }
                }
            ],
            "execution_count": 3
        },
        {
            "cell_type": "code",
            "source": [
                "--2. Назначити користувачу роль БД (будь-яку);\r\n",
                "EXECUTE sp_addrolemember db_datareader ,new_log1;"
            ],
            "metadata": {
                "azdata_cell_guid": "0ca1aee3-c45c-4181-ad08-cae88a3de231"
            },
            "outputs": [
                {
                    "output_type": "display_data",
                    "data": {
                        "text/html": "Commands completed successfully."
                    },
                    "metadata": {}
                },
                {
                    "output_type": "display_data",
                    "data": {
                        "text/html": "Total execution time: 00:00:00.162"
                    },
                    "metadata": {}
                }
            ],
            "execution_count": 4
        },
        {
            "cell_type": "code",
            "source": [
                "--3. Надати користувачу Bill1 повноваження на доступ к збереженої процедури (будь-якої);\r\n",
                "CREATE LOGIN Bill1 WITH PASSWORD='pass'\r\n",
                "USE Accounting \r\n",
                "GO\r\n",
                "CREATE USER Bill1 FOR LOGIN Bill1 \r\n",
                "EXECUTE sp_addrolemember'db_datawriter','Bill1'\r\n",
                "GRANT EXECUTE TO Bill1"
            ],
            "metadata": {
                "azdata_cell_guid": "8e6c9411-7053-483a-9597-2e0377898727"
            },
            "outputs": [
                {
                    "output_type": "display_data",
                    "data": {
                        "text/html": "Commands completed successfully."
                    },
                    "metadata": {}
                },
                {
                    "output_type": "display_data",
                    "data": {
                        "text/html": "Commands completed successfully."
                    },
                    "metadata": {}
                },
                {
                    "output_type": "display_data",
                    "data": {
                        "text/html": "Total execution time: 00:00:00.045"
                    },
                    "metadata": {}
                }
            ],
            "execution_count": 5
        },
        {
            "cell_type": "code",
            "source": [
                "--4. Відкликати всі надані користувачу John привілегії.\r\n",
                "REVOKE ALL FROM Bill1;"
            ],
            "metadata": {
                "azdata_cell_guid": "703fab63-9894-4690-a642-d4fbb67b4e64"
            },
            "outputs": [
                {
                    "output_type": "display_data",
                    "data": {
                        "text/html": "The ALL permission is deprecated and maintained only for compatibility. It DOES NOT imply ALL permissions defined on the entity."
                    },
                    "metadata": {}
                },
                {
                    "output_type": "display_data",
                    "data": {
                        "text/html": "Total execution time: 00:00:00.025"
                    },
                    "metadata": {}
                }
            ],
            "execution_count": 6
        },
        {
            "cell_type": "code",
            "source": [
                "--5. Зашифруйте зміст однієї з  колонок таблиці в створеній БД\r\n",
                "GO \r\n",
                "USE master;\r\n",
                "SELECT * from sys.symmetric_keys\r\n",
                "WHERE name ='##MS_ServiceMasterKey##';\r\n",
                "\r\n",
                "use Accounting;\r\n",
                "CREATE MASTER KEY ENCRYPTION BY PASSWORD='1111';"
            ],
            "metadata": {
                "azdata_cell_guid": "aeb8a6c1-a823-4634-ad5c-584d2a6a83b0"
            },
            "outputs": [
                {
                    "output_type": "display_data",
                    "data": {
                        "text/html": "Commands completed successfully."
                    },
                    "metadata": {}
                },
                {
                    "output_type": "display_data",
                    "data": {
                        "text/html": "(1 row affected)"
                    },
                    "metadata": {}
                },
                {
                    "output_type": "display_data",
                    "data": {
                        "text/html": "Total execution time: 00:00:00.285"
                    },
                    "metadata": {}
                },
                {
                    "output_type": "execute_result",
                    "metadata": {},
                    "execution_count": 7,
                    "data": {
                        "application/vnd.dataresource+json": {
                            "schema": {
                                "fields": [
                                    {
                                        "name": "name"
                                    },
                                    {
                                        "name": "principal_id"
                                    },
                                    {
                                        "name": "symmetric_key_id"
                                    },
                                    {
                                        "name": "key_length"
                                    },
                                    {
                                        "name": "key_algorithm"
                                    },
                                    {
                                        "name": "algorithm_desc"
                                    },
                                    {
                                        "name": "create_date"
                                    },
                                    {
                                        "name": "modify_date"
                                    },
                                    {
                                        "name": "key_guid"
                                    },
                                    {
                                        "name": "key_thumbprint"
                                    },
                                    {
                                        "name": "provider_type"
                                    },
                                    {
                                        "name": "cryptographic_provider_guid"
                                    },
                                    {
                                        "name": "cryptographic_provider_algid"
                                    }
                                ]
                            },
                            "data": [
                                {
                                    "0": "##MS_ServiceMasterKey##",
                                    "1": "1",
                                    "2": "102",
                                    "3": "256",
                                    "4": "A3",
                                    "5": "AES_256",
                                    "6": "2019-12-02 20:14:03.880",
                                    "7": "2019-12-02 20:14:03.880",
                                    "8": "c769e0cc-21d6-48a6-90de-382a59e269b8",
                                    "9": "NULL",
                                    "10": "NULL",
                                    "11": "NULL",
                                    "12": "NULL"
                                }
                            ]
                        },
                        "text/html": "<table><tr><th>name</th><th>principal_id</th><th>symmetric_key_id</th><th>key_length</th><th>key_algorithm</th><th>algorithm_desc</th><th>create_date</th><th>modify_date</th><th>key_guid</th><th>key_thumbprint</th><th>provider_type</th><th>cryptographic_provider_guid</th><th>cryptographic_provider_algid</th></tr><tr><td>##MS_ServiceMasterKey##</td><td>1</td><td>102</td><td>256</td><td>A3</td><td>AES_256</td><td>2019-12-02 20:14:03.880</td><td>2019-12-02 20:14:03.880</td><td>c769e0cc-21d6-48a6-90de-382a59e269b8</td><td>NULL</td><td>NULL</td><td>NULL</td><td>NULL</td></tr></table>"
                    }
                }
            ],
            "execution_count": 7
        },
        {
            "cell_type": "code",
            "source": [
                "CREATE CERTIFICATE CertificateDBSP \r\n",
                "WITH SUBJECT='Protect Data';\r\n",
                "\r\n",
                "CREATE SYMMETRIC KEY SymmetricKeyDBSP\r\n",
                "WITH ALGORITHM=AES_128\r\n",
                "ENCRYPTION BY CERTIFICATE CertificateDBSP;"
            ],
            "metadata": {
                "azdata_cell_guid": "546c8a65-61d0-4843-ad45-7f8cf2ea44b7"
            },
            "outputs": [
                {
                    "output_type": "display_data",
                    "data": {
                        "text/html": "Commands completed successfully."
                    },
                    "metadata": {}
                },
                {
                    "output_type": "display_data",
                    "data": {
                        "text/html": "Total execution time: 00:00:00.794"
                    },
                    "metadata": {}
                }
            ],
            "execution_count": 8
        },
        {
            "cell_type": "code",
            "source": [
                "GO\r\n",
                "USE accounting;\r\n",
                "ALTER TABLE Students \r\n",
                "add surname_encrypt VARBINARY(max) NULL"
            ],
            "metadata": {
                "azdata_cell_guid": "b448009e-094e-4f8b-adb8-57058c0b6302"
            },
            "outputs": [
                {
                    "output_type": "display_data",
                    "data": {
                        "text/html": "Commands completed successfully."
                    },
                    "metadata": {}
                },
                {
                    "output_type": "display_data",
                    "data": {
                        "text/html": "Total execution time: 00:00:00.157"
                    },
                    "metadata": {}
                }
            ],
            "execution_count": 9
        },
        {
            "cell_type": "code",
            "source": [
                "GO\r\n",
                "OPEN SYMMETRIC KEY SymmetricKeyDBSP\r\n",
                "DECRYPTION BY CERTIFICATE CertificateDBSP\r\n",
                "\r\n",
                "UPDATE Students \r\n",
                "SET surname_encrypt = EncryptByKey(Key_GUID('SymmetricKeyDBSP'),surname)\r\n",
                "FROM Students\r\n",
                "CLOSE SYMMETRIC KEY SymmetricKeyDBSP"
            ],
            "metadata": {
                "azdata_cell_guid": "a068eadc-301f-4586-8bc6-a90e347a0d91"
            },
            "outputs": [
                {
                    "output_type": "display_data",
                    "data": {
                        "text/html": "(13 rows affected)"
                    },
                    "metadata": {}
                },
                {
                    "output_type": "display_data",
                    "data": {
                        "text/html": "Total execution time: 00:00:00.120"
                    },
                    "metadata": {}
                }
            ],
            "execution_count": 10
        },
        {
            "cell_type": "code",
            "source": [
                "USE Accounting;\n",
                "OPEN SYMMETRIC KEY SymmetricKeyDBSP\n",
                "DECRYPTION BY CERTIFICATE CertificateDBSP\n",
                "SELECT Surname_encrypt AS 'Encrypted',\n",
                "CONVERT(varchar,DecryptByKey(surname_encrypt)) AS 'Decrypted',\n",
                "student_id FROM Students  \n",
                "CLOSE SYMMETRIC KEY SymmetricKeyDBSP"
            ],
            "metadata": {
                "azdata_cell_guid": "be7e11ac-42fa-4b9f-8802-8c342c1caa84"
            },
            "outputs": [
{
    "output_type": "display_data",
    "data": {
        "text/html": "(13 rows affected)"
    },
    "metadata": {}
}, {
    "output_type": "display_data",
    "data": {
        "text/html": "Total execution time: 00:00:00.104"
    },
    "metadata": {}
}, {
    "output_type": "execute_result",
    "metadata": {},
    "execution_count": 11,
    "data": {
        "application/vnd.dataresource+json": {
            "schema": {
                "fields": [
                    {
                        "name": "Encrypted"
                    },
                    {
                        "name": "Decrypted"
                    },
                    {
                        "name": "student_id"
                    }
                ]
            },
            "data": [
                {
                    "0": "0x005F4EA2FF81BC4BB998013463577515020000003DEFCF672C889EE1EBC3C9AF7F0BB94C55F20E32A905180DFBE15AEF19F94193",
                    "1": "ivanov",
                    "2": "1"
                },
                {
                    "0": "0x005F4EA2FF81BC4BB998013463577515020000001C0D8363837F72A424F03E79A2815649AE4A809C4652B214C7FD07F633DE66FF3D73C5AF999B181F4EEB3BF33D947EEA",
                    "1": "petrenko",
                    "2": "2"
                },
                {
                    "0": "0x005F4EA2FF81BC4BB99801346357751502000000CC37360FCE823FD1C4DD6C7E4969787A04F18F30975607B423E0BF515F0AA492",
                    "1": "rybnov",
                    "2": "3"
                },
                {
                    "0": "0x005F4EA2FF81BC4BB99801346357751502000000569F8A891B5978D4F029A10AD63C7D96B1D90048D15F658A2FA08D73F1FE7133",
                    "1": "synii",
                    "2": "4"
                },
                {
                    "0": "0x005F4EA2FF81BC4BB99801346357751502000000223FBD76B44696C19785605DFE37A30F4469AAF83F182C40C8297BD39C518408",
                    "1": "kulyba",
                    "2": "5"
                },
                {
                    "0": "0x005F4EA2FF81BC4BB9980134635775150200000069AD8334EB4D0E0A286335025BD69EB09299D5AFE2B0BBD0983EFC10620AEA0B",
                    "1": "smyrnov",
                    "2": "6"
                },
                {
                    "0": "0x005F4EA2FF81BC4BB99801346357751502000000D938B9003C8C0F3BA220BB69F4DD09BA1ACB81EE4BFF954446B71D06E3F4C5B599C5857CF4A256D0E53E6CDF98DB3CF4",
                    "1": "sydorenko",
                    "2": "7"
                },
                {
                    "0": "0x005F4EA2FF81BC4BB99801346357751502000000F371289C4165EC2F9AD3F544543456D3B2EC2C237C58FCC4EEAB28CE89FD1F29",
                    "1": "rudjak",
                    "2": "8"
                },
                {
                    "0": "0x005F4EA2FF81BC4BB9980134635775150200000054E98E0883A076F12AF936010D2228101388D9155F3D3CFF412EC3E9CCA7E645",
                    "1": "petrov",
                    "2": "9"
                },
                {
                    "0": "0x005F4EA2FF81BC4BB99801346357751502000000B1D9590E1FC489B8D9A10A7E587C7781D4608E534999693D27950BCBE925BA76328CBDF4FF859183EB6E8C2C8A29C278",
                    "1": "symonenko",
                    "2": "10"
                },
                {
                    "0": "0x005F4EA2FF81BC4BB99801346357751502000000F424504AD10FB83CD81CAB3455E7B2EC4DB4620E415F50755E57C15A352BB7A5",
                    "1": "lyniov",
                    "2": "11"
                },
                {
                    "0": "0x005F4EA2FF81BC4BB99801346357751502000000018F8B70772919B037C803E864AF454CCC506EED000D45AB63567C47186C1065",
                    "1": "lisnyu",
                    "2": "12"
                },
                {
                    "0": "0x005F4EA2FF81BC4BB99801346357751502000000A846BC590AFC0D016FC1F4A8D4A80D92F8369A5A34996247F2E9407E21031E43AB8BEF95853BB7B3991323DF4BF31ED8",
                    "1": "Vasyliovych",
                    "2": "15"
                }
            ]
        },
        "text/html": "<table><tr><th>Encrypted</th><th>Decrypted</th><th>student_id</th></tr><tr><td>0x005F4EA2FF81BC4BB998013463577515020000003DEFCF672C889EE1EBC3C9AF7F0BB94C55F20E32A905180DFBE15AEF19F94193</td><td>ivanov</td><td>1</td></tr><tr><td>0x005F4EA2FF81BC4BB998013463577515020000001C0D8363837F72A424F03E79A2815649AE4A809C4652B214C7FD07F633DE66FF3D73C5AF999B181F4EEB3BF33D947EEA</td><td>petrenko</td><td>2</td></tr><tr><td>0x005F4EA2FF81BC4BB99801346357751502000000CC37360FCE823FD1C4DD6C7E4969787A04F18F30975607B423E0BF515F0AA492</td><td>rybnov</td><td>3</td></tr><tr><td>0x005F4EA2FF81BC4BB99801346357751502000000569F8A891B5978D4F029A10AD63C7D96B1D90048D15F658A2FA08D73F1FE7133</td><td>synii</td><td>4</td></tr><tr><td>0x005F4EA2FF81BC4BB99801346357751502000000223FBD76B44696C19785605DFE37A30F4469AAF83F182C40C8297BD39C518408</td><td>kulyba</td><td>5</td></tr><tr><td>0x005F4EA2FF81BC4BB9980134635775150200000069AD8334EB4D0E0A286335025BD69EB09299D5AFE2B0BBD0983EFC10620AEA0B</td><td>smyrnov</td><td>6</td></tr><tr><td>0x005F4EA2FF81BC4BB99801346357751502000000D938B9003C8C0F3BA220BB69F4DD09BA1ACB81EE4BFF954446B71D06E3F4C5B599C5857CF4A256D0E53E6CDF98DB3CF4</td><td>sydorenko</td><td>7</td></tr><tr><td>0x005F4EA2FF81BC4BB99801346357751502000000F371289C4165EC2F9AD3F544543456D3B2EC2C237C58FCC4EEAB28CE89FD1F29</td><td>rudjak</td><td>8</td></tr><tr><td>0x005F4EA2FF81BC4BB9980134635775150200000054E98E0883A076F12AF936010D2228101388D9155F3D3CFF412EC3E9CCA7E645</td><td>petrov</td><td>9</td></tr><tr><td>0x005F4EA2FF81BC4BB99801346357751502000000B1D9590E1FC489B8D9A10A7E587C7781D4608E534999693D27950BCBE925BA76328CBDF4FF859183EB6E8C2C8A29C278</td><td>symonenko</td><td>10</td></tr><tr><td>0x005F4EA2FF81BC4BB99801346357751502000000F424504AD10FB83CD81CAB3455E7B2EC4DB4620E415F50755E57C15A352BB7A5</td><td>lyniov</td><td>11</td></tr><tr><td>0x005F4EA2FF81BC4BB99801346357751502000000018F8B70772919B037C803E864AF454CCC506EED000D45AB63567C47186C1065</td><td>lisnyu</td><td>12</td></tr><tr><td>0x005F4EA2FF81BC4BB99801346357751502000000A846BC590AFC0D016FC1F4A8D4A80D92F8369A5A34996247F2E9407E21031E43AB8BEF95853BB7B3991323DF4BF31ED8</td><td>Vasyliovych</td><td>15</td></tr></table>"
    }
}
],
            "execution_count": 11
        }
    ]
}