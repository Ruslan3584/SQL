{
    "metadata": {
        "kernelspec": {
            "name": "SQL",
            "display_name": "SQL",
            "language": "sql"
        },
        "language_info": {
            "name": "sql",
            "version": ""
        }
    },
    "nbformat_minor": 2,
    "nbformat": 4,
    "cells": [
        {
            "cell_type": "markdown",
            "source": [
                "# Ціль: вивчити команди формування запитів до бази даних (SELECT)\r\n",
                ""
            ],
            "metadata": {
                "azdata_cell_guid": "918757f2-a1b4-4afc-bf75-3859be11bb54"
            }
        },
        {
            "cell_type": "code",
            "source": [
                "USE Accounting;"
            ],
            "metadata": {
                "azdata_cell_guid": "d83beab1-e92a-4d0b-ac00-ce9327594c68"
            },
            "outputs": [
                {
                    "output_type": "display_data",
                    "data": {
                        "text/html": "Commands completed successfully."
                    },
                    "metadata": {}
                },
                {
                    "output_type": "display_data",
                    "data": {
                        "text/html": "Total execution time: 00:00:00.019"
                    },
                    "metadata": {}
                }
            ],
            "execution_count": 1
        },
        {
            "cell_type": "code",
            "source": [
                "--здали сесію на 5\r\n",
                "SELECT s.student_id,name,surname FROM Students s\r\n",
                "INNER JOIN Results r\r\n",
                "ON s.student_id=r.student_id\r\n",
                "WHERE term=1 and mark='5'"
            ],
            "metadata": {
                "azdata_cell_guid": "fa3b4033-f83a-46b1-afb4-aa31da5bc0c6"
            },
            "outputs": [
                {
                    "output_type": "display_data",
                    "data": {
                        "text/html": "(3 rows affected)"
                    },
                    "metadata": {}
                },
                {
                    "output_type": "display_data",
                    "data": {
                        "text/html": "Total execution time: 00:00:00.096"
                    },
                    "metadata": {}
                },
                {
                    "output_type": "execute_result",
                    "metadata": {},
                    "execution_count": 2,
                    "data": {
                        "application/vnd.dataresource+json": {
                            "schema": {
                                "fields": [
                                    {
                                        "name": "student_id"
                                    },
                                    {
                                        "name": "name"
                                    },
                                    {
                                        "name": "surname"
                                    }
                                ]
                            },
                            "data": [
                                {
                                    "0": "1",
                                    "1": "Ivan",
                                    "2": "ivanov"
                                },
                                {
                                    "0": "5",
                                    "1": "daryna",
                                    "2": "kulyba"
                                },
                                {
                                    "0": "10",
                                    "1": "vasyl",
                                    "2": "symonenko"
                                }
                            ]
                        },
                        "text/html": "<table><tr><th>student_id</th><th>name</th><th>surname</th></tr><tr><td>1</td><td>Ivan</td><td>ivanov</td></tr><tr><td>5</td><td>daryna</td><td>kulyba</td></tr><tr><td>10</td><td>vasyl</td><td>symonenko</td></tr></table>"
                    }
                }
            ],
            "execution_count": 2
        },
        {
            "cell_type": "code",
            "source": [
                "--сума стипендій по групах\r\n",
                "SELECT sum(category) sum1,g.group_id FROM Results r\r\n",
                "INNER JOIN Category c\r\n",
                "ON r.mark=c.mark\r\n",
                "INNER JOIN Students s \r\n",
                "ON s.student_id=r.student_id\r\n",
                "INNER JOIN Groups g\r\n",
                "ON s.group_id=g.group_id\r\n",
                "WHERE term=1\r\n",
                "Group BY g.group_id\r\n",
                ""
            ],
            "metadata": {
                "azdata_cell_guid": "8ff74e58-d224-4ac1-99e3-1244ccbf5445"
            },
            "outputs": [
                {
                    "output_type": "display_data",
                    "data": {
                        "text/html": "(2 rows affected)"
                    },
                    "metadata": {}
                },
                {
                    "output_type": "display_data",
                    "data": {
                        "text/html": "Total execution time: 00:00:00.065"
                    },
                    "metadata": {}
                },
                {
                    "output_type": "execute_result",
                    "metadata": {},
                    "execution_count": 3,
                    "data": {
                        "application/vnd.dataresource+json": {
                            "schema": {
                                "fields": [
                                    {
                                        "name": "sum1"
                                    },
                                    {
                                        "name": "group_id"
                                    }
                                ]
                            },
                            "data": [
                                {
                                    "0": "8202.8000",
                                    "1": "1"
                                },
                                {
                                    "0": "5100.9000",
                                    "1": "2"
                                }
                            ]
                        },
                        "text/html": "<table><tr><th>sum1</th><th>group_id</th></tr><tr><td>8202.8000</td><td>1</td></tr><tr><td>5100.9000</td><td>2</td></tr></table>"
                    }
                }
            ],
            "execution_count": 3
        },
        {
            "cell_type": "code",
            "source": [
                "--розмір призначеної стипендії студентам за групами\n",
                "SELECT name,g.group_id,category FROM Results r\n",
                "INNER JOIN Category c\n",
                "ON r.mark=c.mark\n",
                "INNER JOIN Students s \n",
                "ON s.student_id=r.student_id\n",
                "INNER JOIN Groups g\n",
                "ON s.group_id=g.group_id\n",
                "WHERE term=1\n",
                "ORDER BY g.group_id"
            ],
            "metadata": {
                "azdata_cell_guid": "c0d674e0-7e7e-4bc2-bcdf-9bfebd21f41b"
            },
            "outputs": [
{
    "output_type": "display_data",
    "data": {
        "text/html": "(12 rows affected)"
    },
    "metadata": {}
}, {
    "output_type": "display_data",
    "data": {
        "text/html": "Total execution time: 00:00:00.036"
    },
    "metadata": {}
}, {
    "output_type": "execute_result",
    "metadata": {},
    "execution_count": 4,
    "data": {
        "application/vnd.dataresource+json": {
            "schema": {
                "fields": [
                    {
                        "name": "name"
                    },
                    {
                        "name": "group_id"
                    },
                    {
                        "name": "category"
                    }
                ]
            },
            "data": [
                {
                    "0": "Ivan",
                    "1": "1",
                    "2": "1800.9000"
                },
                {
                    "0": "ivan",
                    "1": "1",
                    "2": "1200.5000"
                },
                {
                    "0": "vadym",
                    "1": "1",
                    "2": "1100.0000"
                },
                {
                    "0": "eugen",
                    "1": "1",
                    "2": "0.0000"
                },
                {
                    "0": "olena",
                    "1": "1",
                    "2": "1200.5000"
                },
                {
                    "0": "mykyta",
                    "1": "1",
                    "2": "1100.0000"
                },
                {
                    "0": "vasyl",
                    "1": "1",
                    "2": "1800.9000"
                },
                {
                    "0": "petro",
                    "1": "1",
                    "2": "0.0000"
                },
                {
                    "0": "volodymyr",
                    "1": "2",
                    "2": "1100.0000"
                },
                {
                    "0": "daryna",
                    "1": "2",
                    "2": "1800.9000"
                },
                {
                    "0": "sergii",
                    "1": "2",
                    "2": "1100.0000"
                },
                {
                    "0": "maksym",
                    "1": "2",
                    "2": "1100.0000"
                }
            ]
        },
        "text/html": "<table><tr><th>name</th><th>group_id</th><th>category</th></tr><tr><td>Ivan</td><td>1</td><td>1800.9000</td></tr><tr><td>ivan</td><td>1</td><td>1200.5000</td></tr><tr><td>vadym</td><td>1</td><td>1100.0000</td></tr><tr><td>eugen</td><td>1</td><td>0.0000</td></tr><tr><td>olena</td><td>1</td><td>1200.5000</td></tr><tr><td>mykyta</td><td>1</td><td>1100.0000</td></tr><tr><td>vasyl</td><td>1</td><td>1800.9000</td></tr><tr><td>petro</td><td>1</td><td>0.0000</td></tr><tr><td>volodymyr</td><td>2</td><td>1100.0000</td></tr><tr><td>daryna</td><td>2</td><td>1800.9000</td></tr><tr><td>sergii</td><td>2</td><td>1100.0000</td></tr><tr><td>maksym</td><td>2</td><td>1100.0000</td></tr></table>"
    }
}
],
            "execution_count": 4
        }
    ]
}