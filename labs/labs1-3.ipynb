{
    "metadata": {
        "kernelspec": {
            "name": "SQL",
            "display_name": "SQL",
            "language": "sql"
        },
        "language_info": {
            "name": "sql",
            "version": ""
        }
    },
    "nbformat_minor": 2,
    "nbformat": 4,
    "cells": [
        {
            "cell_type": "markdown",
            "source": [
                "# Ціль:\r\n",
                "* Надбання навичок  настройки і роботи в середовищі SSMS. Визначення синтаксису  SQL: CREATE TABLE.\r\n",
                "* Вивчити команди DDL: ALTER TABLE, DROP TABLE.\r\n",
                "* вивчення синтаксису мови маніпулювання даними (Data Manipulation Language - DML)\r\n",
                ""
            ],
            "metadata": {
                "azdata_cell_guid": "f27384bc-d54e-40e4-a7e9-cb08702388bd"
            }
        },
        {
            "cell_type": "code",
            "source": [
                "--створення бази даних\r\n",
                "CREATE DATABASE Accounting;"
            ],
            "metadata": {
                "azdata_cell_guid": "549a76b9-c852-49ee-b935-088f39fb6458"
            },
            "outputs": [
                {
                    "output_type": "display_data",
                    "data": {
                        "text/html": "Commands completed successfully."
                    },
                    "metadata": {}
                },
                {
                    "output_type": "display_data",
                    "data": {
                        "text/html": "Total execution time: 00:00:01.408"
                    },
                    "metadata": {}
                }
            ],
            "execution_count": 29
        },
        {
            "cell_type": "code",
            "source": [
                "USE Accounting;"
            ],
            "metadata": {
                "azdata_cell_guid": "c9c2e5a7-8026-4c7d-a478-4ca16c8dc648"
            },
            "outputs": [
                {
                    "output_type": "display_data",
                    "data": {
                        "text/html": "Commands completed successfully."
                    },
                    "metadata": {}
                },
                {
                    "output_type": "display_data",
                    "data": {
                        "text/html": "Total execution time: 00:00:00.353"
                    },
                    "metadata": {}
                }
            ],
            "execution_count": 30
        },
        {
            "cell_type": "code",
            "source": [
                "CREATE TABLE Groups\r\n",
                "(group_id INT IDENTITY PRIMARY KEY ,\r\n",
                "group_name VARCHAR(10) NOT NULL\r\n",
                "CONSTRAINT g_name_mask CHECK\r\n",
                "(group_name like '[A-Z][A-Z][0-9][0-9]'));\r\n",
                "\r\n",
                "CREATE TABLE Students\r\n",
                "(student_id INT IDENTITY\r\n",
                "CONSTRAINT Student_primary PRIMARY KEY,\r\n",
                "name VARCHAR(35) NOT NULL,\r\n",
                "surname VARCHAR(35) \r\n",
                "CONSTRAINT Surname_not_null NOT NULL,\r\n",
                "patronymic VARCHAR(35) NOT NULL,\r\n",
                "group_id INT \r\n",
                "CONSTRAINT gFK FOREIGN KEY \r\n",
                "(group_id) REFERENCES Groups ON DELETE CASCADE);\r\n",
                "\r\n",
                "-- Категорії оцінка-сума стипендії\r\n",
                "CREATE TABLE Category\r\n",
                "(cat_id INT  IDENTITY PRIMARY KEY,\r\n",
                "mark VARCHAR(10) NOT NULL UNIQUE \r\n",
                "CONSTRAINT mark_ch CHECK\r\n",
                "(mark IN('Fx','3','4-5','5')),\r\n",
                "category DECIMAL(19,4) NOT NULL \r\n",
                "CONSTRAINT cat_check CHECK \r\n",
                "(category BETWEEN 0 AND 3000));\r\n",
                "\r\n",
                "CREATE TABLE Results\r\n",
                "(res_id INT IDENTITY PRIMARY KEY,\r\n",
                "student_id INT NOT NULL\r\n",
                "CONSTRAINT res_FK FOREIGN KEY\r\n",
                "(student_id) REFERENCES Students ON DELETE CASCADE,\r\n",
                "\r\n",
                "term SMALLINT NOT NULL\r\n",
                "CONSTRAINT term_check CHECK\r\n",
                "(term BETWEEN 1 AND 8),\r\n",
                "\r\n",
                "mark VARCHAR(10) NOT NULL\r\n",
                "CONSTRAINT mFK FOREIGN KEY \r\n",
                "(mark) REFERENCES Category(mark) ON DELETE CASCADE);"
            ],
            "metadata": {
                "azdata_cell_guid": "4cbf8fa4-895e-40b4-b9f3-553893f26d59",
                "tags": []
            },
            "outputs": [
                {
                    "output_type": "display_data",
                    "data": {
                        "text/html": "Commands completed successfully."
                    },
                    "metadata": {}
                },
                {
                    "output_type": "display_data",
                    "data": {
                        "text/html": "Total execution time: 00:00:00.152"
                    },
                    "metadata": {}
                }
            ],
            "execution_count": 31
        },
        {
            "cell_type": "markdown",
            "source": [
                "# Заповнюємо БД"
            ],
            "metadata": {
                "azdata_cell_guid": "c9f3e51f-d3d3-40c6-8b31-423fa0f6b186"
            }
        },
        {
            "cell_type": "code",
            "source": [
                "INSERT INTO GROUPS VALUES('FI61');\r\n",
                "INSERT INTO GROUPS VALUES('FI62');\r\n",
                "\r\n",
                "INSERT INTO Category VALUES('Fx',0);\r\n",
                "INSERT INTO Category VALUES('3',1100.0);\r\n",
                "INSERT INTO Category VALUES('4-5',1200.5);\r\n",
                "INSERT INTO Category VALUES('5',1800.9);\r\n",
                "\r\n",
                "INSERT INTO Students VALUES('Ivan','ivanov','ivanovych',1);\r\n",
                "INSERT INTO Students VALUES('ivan','petrenko','petrovych',1);\r\n",
                "INSERT INTO Students VALUES('vadym','rybnov','ivanovych',1);\r\n",
                "INSERT INTO Students VALUES('eugen','synii','oleksiyovych',1);\r\n",
                "INSERT INTO Students VALUES('daryna','kulyba','anatoliivna',2);\r\n",
                "INSERT INTO Students VALUES('sergii','smyrnov','pavlovych',2);\r\n",
                "INSERT INTO Students VALUES('maksym','sydorenko','oleksandrovych',2);\r\n",
                "INSERT INTO Students VALUES('olena','rudjak','makarivna',1);\r\n",
                "INSERT INTO Students VALUES('mykyta','petrov','dmytrovych',1);\r\n",
                "INSERT INTO Students VALUES('vasyl','symonenko','ivanovych',1);\r\n",
                "INSERT INTO Students VALUES('petro','lyniov','ivanovych',1);\r\n",
                "INSERT INTO Students VALUES('volodymyr','lisnyu','volodymyrovych',2);\r\n",
                "\r\n",
                "\r\n",
                "INSERT INTO Results VALUES(1,1,'5');\r\n",
                "INSERT INTO Results VALUES(2,1,'4-5');\r\n",
                "INSERT INTO Results VALUES(3,1,'3');\r\n",
                "INSERT INTO Results VALUES(4,1,'Fx');\r\n",
                "INSERT INTO Results VALUES(5,1,'5');\r\n",
                "INSERT INTO Results VALUES(6,1,'3');\r\n",
                "INSERT INTO Results VALUES(7,1,'3');\r\n",
                "INSERT INTO Results VALUES(8,1,'4-5');\r\n",
                "INSERT INTO Results VALUES(9,1,'3');\r\n",
                "INSERT INTO Results VALUES(10,1,'5');\r\n",
                "INSERT INTO Results VALUES(11,1,'Fx');\r\n",
                "INSERT INTO Results VALUES(12,1,'3');\r\n",
                "\r\n",
                ""
            ],
            "metadata": {
                "azdata_cell_guid": "edc68044-4d39-4d95-86a4-04b5fed51a88",
                "tags": []
            },
            "outputs": [
                {
                    "output_type": "display_data",
                    "data": {
                        "text/html": "(1 row affected)"
                    },
                    "metadata": {}
                },
                {
                    "output_type": "display_data",
                    "data": {
                        "text/html": "(1 row affected)"
                    },
                    "metadata": {}
                },
                {
                    "output_type": "display_data",
                    "data": {
                        "text/html": "(1 row affected)"
                    },
                    "metadata": {}
                },
                {
                    "output_type": "display_data",
                    "data": {
                        "text/html": "(1 row affected)"
                    },
                    "metadata": {}
                },
                {
                    "output_type": "display_data",
                    "data": {
                        "text/html": "(1 row affected)"
                    },
                    "metadata": {}
                },
                {
                    "output_type": "display_data",
                    "data": {
                        "text/html": "(1 row affected)"
                    },
                    "metadata": {}
                },
                {
                    "output_type": "display_data",
                    "data": {
                        "text/html": "(1 row affected)"
                    },
                    "metadata": {}
                },
                {
                    "output_type": "display_data",
                    "data": {
                        "text/html": "(1 row affected)"
                    },
                    "metadata": {}
                },
                {
                    "output_type": "display_data",
                    "data": {
                        "text/html": "(1 row affected)"
                    },
                    "metadata": {}
                },
                {
                    "output_type": "display_data",
                    "data": {
                        "text/html": "(1 row affected)"
                    },
                    "metadata": {}
                },
                {
                    "output_type": "display_data",
                    "data": {
                        "text/html": "(1 row affected)"
                    },
                    "metadata": {}
                },
                {
                    "output_type": "display_data",
                    "data": {
                        "text/html": "(1 row affected)"
                    },
                    "metadata": {}
                },
                {
                    "output_type": "display_data",
                    "data": {
                        "text/html": "(1 row affected)"
                    },
                    "metadata": {}
                },
                {
                    "output_type": "display_data",
                    "data": {
                        "text/html": "(1 row affected)"
                    },
                    "metadata": {}
                },
                {
                    "output_type": "display_data",
                    "data": {
                        "text/html": "(1 row affected)"
                    },
                    "metadata": {}
                },
                {
                    "output_type": "display_data",
                    "data": {
                        "text/html": "(1 row affected)"
                    },
                    "metadata": {}
                },
                {
                    "output_type": "display_data",
                    "data": {
                        "text/html": "(1 row affected)"
                    },
                    "metadata": {}
                },
                {
                    "output_type": "display_data",
                    "data": {
                        "text/html": "(1 row affected)"
                    },
                    "metadata": {}
                },
                {
                    "output_type": "display_data",
                    "data": {
                        "text/html": "(1 row affected)"
                    },
                    "metadata": {}
                },
                {
                    "output_type": "display_data",
                    "data": {
                        "text/html": "(1 row affected)"
                    },
                    "metadata": {}
                },
                {
                    "output_type": "display_data",
                    "data": {
                        "text/html": "(1 row affected)"
                    },
                    "metadata": {}
                },
                {
                    "output_type": "display_data",
                    "data": {
                        "text/html": "(1 row affected)"
                    },
                    "metadata": {}
                },
                {
                    "output_type": "display_data",
                    "data": {
                        "text/html": "(1 row affected)"
                    },
                    "metadata": {}
                },
                {
                    "output_type": "display_data",
                    "data": {
                        "text/html": "(1 row affected)"
                    },
                    "metadata": {}
                },
                {
                    "output_type": "display_data",
                    "data": {
                        "text/html": "(1 row affected)"
                    },
                    "metadata": {}
                },
                {
                    "output_type": "display_data",
                    "data": {
                        "text/html": "(1 row affected)"
                    },
                    "metadata": {}
                },
                {
                    "output_type": "display_data",
                    "data": {
                        "text/html": "(1 row affected)"
                    },
                    "metadata": {}
                },
                {
                    "output_type": "display_data",
                    "data": {
                        "text/html": "(1 row affected)"
                    },
                    "metadata": {}
                },
                {
                    "output_type": "display_data",
                    "data": {
                        "text/html": "(1 row affected)"
                    },
                    "metadata": {}
                },
                {
                    "output_type": "display_data",
                    "data": {
                        "text/html": "(1 row affected)"
                    },
                    "metadata": {}
                },
                {
                    "output_type": "display_data",
                    "data": {
                        "text/html": "Total execution time: 00:00:00.165"
                    },
                    "metadata": {}
                }
            ],
            "execution_count": 32
        }
    ]
}