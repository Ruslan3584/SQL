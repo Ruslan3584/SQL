{
    "metadata": {
        "kernelspec": {
            "name": "SQL",
            "display_name": "SQL",
            "language": "sql"
        },
        "language_info": {
            "name": "sql",
            "version": ""
        }
    },
    "nbformat_minor": 2,
    "nbformat": 4,
    "cells": [
        {
            "cell_type": "markdown",
            "source": [
                "# COURSEWORK"
            ],
            "metadata": {
                "azdata_cell_guid": "e98bf8fc-8717-4cb2-a937-0fa9c8d65937"
            }
        },
        {
            "cell_type": "code",
            "source": [
                "USE Accounting;"
            ],
            "metadata": {
                "azdata_cell_guid": "27dc19c2-027a-493c-b86a-1d41f25bc52a"
            },
            "outputs": [
                {
                    "output_type": "display_data",
                    "data": {
                        "text/html": "Commands completed successfully."
                    },
                    "metadata": {}
                },
                {
                    "output_type": "display_data",
                    "data": {
                        "text/html": "Total execution time: 00:00:00.003"
                    },
                    "metadata": {}
                }
            ],
            "execution_count": 7
        },
        {
            "cell_type": "code",
            "source": [
                "CREATE TABLE Departments (\r\n",
                "\tDepartmentID Int Primary Key,\r\n",
                "\tDepartmentName Varchar(30) NOT NULL UNIQUE\r\n",
                ");"
            ],
            "metadata": {
                "azdata_cell_guid": "dbe0b6a2-836f-48de-855d-01ffae1cd7e8"
            },
            "outputs": [
                {
                    "output_type": "display_data",
                    "data": {
                        "text/html": "Commands completed successfully."
                    },
                    "metadata": {}
                },
                {
                    "output_type": "display_data",
                    "data": {
                        "text/html": "Total execution time: 00:00:00.073"
                    },
                    "metadata": {}
                }
            ],
            "execution_count": 2
        },
        {
            "cell_type": "code",
            "source": [
                "CREATE TABLE PersonalData (\r\n",
                "\tPersonID Int Not NULL PRIMARY KEY,\r\n",
                "\tSurname VARCHAR(15) NOT NULL,\r\n",
                "\tName VARCHAR(15) NOT NULL,\r\n",
                "\tMiddleName VARCHAR(15) NOT NULL,\r\n",
                "\tINN VARCHAR(15) Not NULL UNIQUE,\r\n",
                "\tDepartmentID INT Not NULL,\r\n",
                "\tCONSTRAINT fk_PD_DepartmentID FOREIGN KEY (DepartmentID) \r\n",
                "\t\tREFERENCES Departments(DepartmentID) ON DELETE CASCADE,\r\n",
                "\tCONSTRAINT uc_PersonalData UNIQUE(PersonID, Surname, Name, MiddleName)\r\n",
                ");"
            ],
            "metadata": {
                "azdata_cell_guid": "5011985f-011b-4dfa-9110-df74cf9ccdfb"
            },
            "outputs": [
                {
                    "output_type": "display_data",
                    "data": {
                        "text/html": "Commands completed successfully."
                    },
                    "metadata": {}
                },
                {
                    "output_type": "display_data",
                    "data": {
                        "text/html": "Total execution time: 00:00:00.122"
                    },
                    "metadata": {}
                }
            ],
            "execution_count": 3
        },
        {
            "cell_type": "code",
            "source": [
                "CREATE TABLE PassportData (\r\n",
                "\tPassportDataID INT NOT NULL PRIMARY KEY, \r\n",
                "\tSPassport   VARCHAR(10)  NOT NULL,\r\n",
                "\tNPassport   INT  NOT NULL,\r\n",
                "\tDatePassport date  NOT NULL,\r\n",
                "\tNameDeptPassport VARCHAR(35)  NOT NULL,\r\n",
                "\t--PersonID INT NOT NULL,\r\n",
                "\tCONSTRAINT fk_PD_PasportDataID FOREIGN KEY (PassportDataID) \r\n",
                "\t\tREFERENCES PersonalData(PersonID) ON DELETE CASCADE,\r\n",
                "\tCONSTRAINT PasportData_Unique UNIQUE (SPassport, NPassport, DatePassport, NameDeptPassport)\r\n",
                ");"
            ],
            "metadata": {
                "azdata_cell_guid": "f85a8b4d-c0d2-474c-a3e1-0e4f3b073692"
            },
            "outputs": [
                {
                    "output_type": "display_data",
                    "data": {
                        "text/html": "Commands completed successfully."
                    },
                    "metadata": {}
                },
                {
                    "output_type": "display_data",
                    "data": {
                        "text/html": "Total execution time: 00:00:00.013"
                    },
                    "metadata": {}
                }
            ],
            "execution_count": 4
        },
        {
            "cell_type": "code",
            "source": [
                "CREATE TABLE Positions (\r\n",
                "\tPositionID Int Primary Key,\r\n",
                "\tPositionName Varchar(20) NOT NULL UNIQUE\r\n",
                ");"
            ],
            "metadata": {
                "azdata_cell_guid": "4cde8575-1b16-415a-9259-5a3406b82d85"
            },
            "outputs": [
                {
                    "output_type": "display_data",
                    "data": {
                        "text/html": "Commands completed successfully."
                    },
                    "metadata": {}
                },
                {
                    "output_type": "display_data",
                    "data": {
                        "text/html": "Total execution time: 00:00:00.042"
                    },
                    "metadata": {}
                }
            ],
            "execution_count": 5
        },
        {
            "cell_type": "code",
            "source": [
                "CREATE TABLE WorkCard (\n",
                "\tWorkCardID INT not null PRIMARY KEY,\n",
                "\t--PersonID INT NOT NULL,\n",
                "\tWCNumberOrder INT,\n",
                "\tOrganization varchar(20),\n",
                "\tPositionID INT NOT NULL,\n",
                "\tStartDateOfContract date NOT NULL,\n",
                "\tFinishDateOfContract date NOT NULL,\n",
                "\tconstraint check_Dates check(FinishDateOfContract > StartDateOfContract OR FinishDateOfContract IS NULL),\n",
                "\tCONSTRAINT fk_JBD_PositionID FOREIGN KEY (PositionID) \n",
                "\t\tREFERENCES Positions(PositionID) ON DELETE CASCADE,\n",
                "\tCONSTRAINT fk_JBD_PersonID FOREIGN KEY (WorkCardID)\n",
                "\t\tREFERENCES PersonalData(PersonID) ON DELETE CASCADE\n",
                ");"
            ],
            "metadata": {
                "azdata_cell_guid": "a06d244e-1045-4715-8b03-fda8dd16a78a"
            },
            "outputs": [
                {
                    "output_type": "display_data",
                    "data": {
                        "text/html": "Commands completed successfully."
                    },
                    "metadata": {}
                },
                {
                    "output_type": "display_data",
                    "data": {
                        "text/html": "Total execution time: 00:00:00.219"
                    },
                    "metadata": {}
                }
            ],
            "execution_count": 8
        },
        {
            "cell_type": "code",
            "source": [
                "CREATE TABLE TeacherData (\r\n",
                "\tTeacherDataID Int Primary Key,\r\n",
                "\t--PersonID INT NOT NULL,\r\n",
                "\tPlanTimeOfWork INT check(PlanTimeOfWork between 0 and 10000),\r\n",
                "\tExperience INT check(Experience between 0 and 10000),\r\n",
                "\tCONSTRAINT fk_TD_PersonID FOREIGN KEY (TeacherDataID) \r\n",
                "\t\tREFERENCES PersonalData(PersonID) ON DELETE CASCADE,\r\n",
                ");"
            ],
            "metadata": {
                "azdata_cell_guid": "634b59b7-97cb-4ff7-870d-601b1066ce29"
            },
            "outputs": [
                {
                    "output_type": "display_data",
                    "data": {
                        "text/html": "Commands completed successfully."
                    },
                    "metadata": {}
                },
                {
                    "output_type": "display_data",
                    "data": {
                        "text/html": "Total execution time: 00:00:00.013"
                    },
                    "metadata": {}
                }
            ],
            "execution_count": 13
        },
        {
            "cell_type": "code",
            "source": [
                "CREATE TABLE Subjects (\r\n",
                "\tSubjectID Int Primary Key,\r\n",
                "\tSubjectName Varchar(20)\r\n",
                ");"
            ],
            "metadata": {
                "azdata_cell_guid": "85c64340-9ea5-4fe1-9f86-c2579fb90b48"
            },
            "outputs": [
                {
                    "output_type": "display_data",
                    "data": {
                        "text/html": "Commands completed successfully."
                    },
                    "metadata": {}
                },
                {
                    "output_type": "display_data",
                    "data": {
                        "text/html": "Total execution time: 00:00:00.075"
                    },
                    "metadata": {}
                }
            ],
            "execution_count": 17
        },
        {
            "cell_type": "code",
            "source": [
                "CREATE TABLE TeacherSubject (\r\n",
                "\tSubjectID Int NOT NULL,\r\n",
                "\tTeacherDataID Int  NOT NULL,\r\n",
                "\tCONSTRAINT TeachSubPrimary  PRIMARY KEY (SubjectID, TeacherDataID),\r\n",
                "\tCONSTRAINT fk_TeachSub_TeacherDataID FOREIGN KEY (TeacherDataID) \r\n",
                "\t\tREFERENCES TeacherData(TeacherDataID) ON DELETE CASCADE,\r\n",
                "\tCONSTRAINT fk_TeachSub_SubjectID FOREIGN KEY (SubjectID) \r\n",
                "\t\tREFERENCES Subjects(SubjectID) ON DELETE CASCADE\r\n",
                ");"
            ],
            "metadata": {
                "azdata_cell_guid": "2889a044-f14c-4912-92f8-7c74a59d96ed",
                "tags": []
            },
            "outputs": [
                {
                    "output_type": "display_data",
                    "data": {
                        "text/html": "Commands completed successfully."
                    },
                    "metadata": {}
                },
                {
                    "output_type": "display_data",
                    "data": {
                        "text/html": "Total execution time: 00:00:00.014"
                    },
                    "metadata": {}
                }
            ],
            "execution_count": 3
        },
        {
            "cell_type": "code",
            "source": [
                "/*Список преподавателей, которые работают на определенной кафедре,\r\n",
                "с указанием их категории \r\n",
                "(доцент, ассистент, ассистент к.н., профессор, старший преподаватель)\r\n",
                "и стажа преподавательской работы?\r\n",
                "*/\r\n",
                "select Surname, Name, DepartmentName, PositionName, Experience from TeacherData T\r\n",
                "JOin PersonalData Per ON Per.PersonID=T.TeacherDataID\r\n",
                "\tJOIN Departments Dep ON Per.DepartmentID= Dep.DepartmentID \r\n",
                "\tJOIN WorkCard Job ON Job.WorkCardID=Per.PersonID\r\n",
                "\tJoin Positions Pos ON Job.PositionID=Pos.PositionID\r\n",
                "\twhere  DepartmentName = 'applied math'\r\n",
                "\torder by Experience"
            ],
            "metadata": {
                "azdata_cell_guid": "50f638f0-a6ec-4504-8c1c-4b1d938192d6"
            },
            "outputs": [
                {
                    "output_type": "display_data",
                    "data": {
                        "text/html": "(0 rows affected)"
                    },
                    "metadata": {}
                },
                {
                    "output_type": "display_data",
                    "data": {
                        "text/html": "Total execution time: 00:00:00.048"
                    },
                    "metadata": {}
                },
                {
                    "output_type": "execute_result",
                    "metadata": {},
                    "execution_count": 14,
                    "data": {
                        "application/vnd.dataresource+json": {
                            "schema": {
                                "fields": [
                                    {
                                        "name": "Surname"
                                    },
                                    {
                                        "name": "Name"
                                    },
                                    {
                                        "name": "DepartmentName"
                                    },
                                    {
                                        "name": "PositionName"
                                    },
                                    {
                                        "name": "Experience"
                                    }
                                ]
                            },
                            "data": []
                        },
                        "text/html": "<table><tr><th>Surname</th><th>Name</th><th>DepartmentName</th><th>PositionName</th><th>Experience</th></tr></table>"
                    }
                }
            ],
            "execution_count": 14
        },
        {
            "cell_type": "code",
            "source": [
                "--средняя нагрузка ассистентов указанной кафедры\r\n",
                "select Surname, Name, Avg(T.PlanTimeOfWork) avg_time from TeacherData T\r\n",
                "JOin PersonalData Per ON Per.PersonID=T.TeacherDataID\r\n",
                "\tJOIN Departments Dep ON Per.DepartmentID= Dep.DepartmentID \r\n",
                "\tJOIN WorkCard Job ON Job.WorkCardID=Per.PersonID\r\n",
                "\tJoin Positions Pos ON Job.PositionID=Pos.PositionID\r\n",
                "\twhere (PositionName = 'assistant' and Dep.DepartmentName = 'applies physics')\r\n",
                "\tGroup By Surname, Name"
            ],
            "metadata": {
                "azdata_cell_guid": "f8d315ee-9b24-424b-9383-ce1c6cc2d657"
            },
            "outputs": [
                {
                    "output_type": "display_data",
                    "data": {
                        "text/html": "(0 rows affected)"
                    },
                    "metadata": {}
                },
                {
                    "output_type": "display_data",
                    "data": {
                        "text/html": "Total execution time: 00:00:00.062"
                    },
                    "metadata": {}
                },
                {
                    "output_type": "execute_result",
                    "metadata": {},
                    "execution_count": 15,
                    "data": {
                        "application/vnd.dataresource+json": {
                            "schema": {
                                "fields": [
                                    {
                                        "name": "Surname"
                                    },
                                    {
                                        "name": "Name"
                                    },
                                    {
                                        "name": "avg_time"
                                    }
                                ]
                            },
                            "data": []
                        },
                        "text/html": "<table><tr><th>Surname</th><th>Name</th><th>avg_time</th></tr></table>"
                    }
                }
            ],
            "execution_count": 15
        },
        {
            "cell_type": "code",
            "source": [
                "--дисциплины которые читает каждый из доцентов указанной кафедры\r\n",
                "select SubjectName,pd.name,pd.Surname from Subjects s\r\n",
                "JOin TeacherAndSubject ts ON ts.SubjectID=s.SubjectID\r\n",
                "\tJOIN TeacherData td  ON td.TeacherDataID= ts.SubjectID \r\n",
                "\tJOIN PersonalData pd ON td.TeacherDataID=pd.PersonID\r\n",
                "\tJoin WorkCard wc ON wc.WorkCardID=pd.PersonID\r\n",
                "\tjoin Departments dep on dep.DepartmentID = pd.DepartmentID\r\n",
                "\tjoin Positions pos on wc.PositionID = pos.PositionID\r\n",
                "\twhere (PositionName = 'lecturer'  and dep.DepartmentName = 'theoretical physics')"
            ],
            "metadata": {
                "azdata_cell_guid": "dba42587-af9e-4667-a9d8-c41df530861a"
            },
            "outputs": [],
            "execution_count": 0
        },
        {
            "cell_type": "code",
            "source": [
                "--количество преподавателей из каждой категории\r\n",
                "select pos.PositionName , count(*) count_teacher from TeacherData td \r\n",
                "join PersonalData pd on td.TeacherDataID = pd.PersonID\r\n",
                "join WorkCard wc ON wc.WorkCardID = pd.PersonID\r\n",
                "join Positions pos on wc.PositionID = pos.PositionID\r\n",
                "group by pos.PositionName"
            ],
            "metadata": {
                "azdata_cell_guid": "7554c891-e405-4153-9891-edcf5d66afee"
            },
            "outputs": [],
            "execution_count": 0
        },
        {
            "cell_type": "code",
            "source": [
                "--истек срок контракта \r\n",
                "select pd.Name,pd.Surname from TeacherData td \r\n",
                "join PersonalData pd on td.TeacherDataID = pd.PersonID\r\n",
                "join WorkCard wc ON wc.WorkCardID = pd.PersonID\r\n",
                "where wc.FinishDateOfContract<CAST(GETDATE() AS DATE)"
            ],
            "metadata": {
                "azdata_cell_guid": "42abcd79-d66d-46bc-8082-e8c418272617"
            },
            "outputs": [],
            "execution_count": 0
        },
        {
            "cell_type": "code",
            "source": [
                "--дольше других работает\r\n",
                "select pd.Name,pd.Surname,wc.StartDateOfContract from TeacherData td \r\n",
                "join PersonalData pd on td.TeacherDataID = pd.PersonID\r\n",
                "join WorkCard wc ON wc.WorkCardID = pd.PersonID\r\n",
                "where wc.StartDateOfContract = \r\n",
                "(select min(wc.StartDateOfContract) from WorkCard wc)"
            ],
            "metadata": {
                "azdata_cell_guid": "72962bc4-e64d-413b-9725-911b83f45f58"
            },
            "outputs": [],
            "execution_count": 0
        },
        {
            "cell_type": "code",
            "source": [
                "--кто из преподавателей может читать указанную дисциплину\r\n",
                "select Surname, Name from TeacherData T\r\n",
                "JOin PersonalData Per ON Per.PersonID=T.TeacherDataID\r\n",
                "\tJOIN TeacherAndSubject TS ON T.TeacherDataID = TS.TeacherDataID \r\n",
                "\tJOIN Subjects Sub ON Sub.SubjectID= TS.SubjectID\r\n",
                "\twhere (Sub.SubjectName = 'cs')"
            ],
            "metadata": {
                "azdata_cell_guid": "5abee420-ddd8-49e9-891b-0630fa9d8ec0"
            },
            "outputs": [],
            "execution_count": 0
        },
        {
            "cell_type": "code",
            "source": [
                "CREATE PROC WhoCan(\r\n",
                "\t  @subjectName VARCHAR(35))\r\n",
                "AS\r\n",
                "IF  NOT EXISTS (SELECT s.SubjectName FROM Subjects s\r\n",
                "WHERE s.SubjectName=@subjectName)\r\n",
                "SELECT 'Subject does not exist' AS RESULT\r\n",
                "ELSE\r\n",
                "select Surname, Name from TeacherData T\r\n",
                "JOin PersonalData Per ON Per.PersonID=T.TeacherDataID\r\n",
                "\tJOIN TeacherAndSubject TS ON T.TeacherDataID = TS.TeacherDataID \r\n",
                "\tJOIN Subjects Sub ON Sub.SubjectID= TS.SubjectID\r\n",
                "\twhere (Sub.SubjectName = @subjectName)\r\n",
                "\r\n",
                "DROP PROC WhoCan"
            ],
            "metadata": {
                "azdata_cell_guid": "f74b7e46-ff2e-4cf6-8298-5ed6f94ada92"
            },
            "outputs": [],
            "execution_count": 0
        },
        {
            "cell_type": "code",
            "source": [
                "--видалити співробітника \r\n",
                "CREATE PROC DelWorker(\r\n",
                "\t  @Name VARCHAR(35),\r\n",
                "\t  @INN VARCHAR(15))\r\n",
                "AS\r\n",
                "IF  NOT EXISTS (SELECT INN FROM PersonalData\r\n",
                "WHERE INN=@INN)\r\n",
                "SELECT 'Person does not exist' AS RESULT\r\n",
                "ELSE\r\n",
                "delete from PersonalData\r\n",
                "where INN = @INN\r\n",
                "\r\n",
                "\r\n",
                "DROP PROC DelWorker\r\n",
                "\r\n",
                "\r\n",
                "--exec DelWorker 'Lee','1230123000'"
            ],
            "metadata": {
                "azdata_cell_guid": "83efb7c5-707a-47af-853e-7df7c6ed4b91"
            },
            "outputs": [],
            "execution_count": 0
        },
        {
            "cell_type": "code",
            "source": [
                "--видалити співробітника \r\n",
                "CREATE PROC AddWorker(\r\n",
                "\t  @surname VARCHAR(35),\r\n",
                "\t  @name VARCHAR(35),\r\n",
                "\t  @middleName VARCHAR(35),\r\n",
                "\t  @INN VARCHAR(15),\r\n",
                "\t  @DepId INT,\r\n",
                "\t  @Spassport VARCHAR(10),\r\n",
                "\t  @Npassport INT,\r\n",
                "\t  @datepassport date,\r\n",
                "\t  @nameDeppassport VARCHAR(35),\r\n",
                "\t  @WCNumberOrder INT,\r\n",
                "\t  @org VARCHAR(20),\r\n",
                "\t  @posID INT,\r\n",
                "\t  @finishDate date\r\n",
                "\t  )\r\n",
                "AS\r\n",
                "IF EXISTS (SELECT INN FROM PersonalData\r\n",
                "WHERE INN=@INN)\r\n",
                "SELECT 'Person already exists' AS RESULT\r\n",
                "ELSE\r\n",
                "DECLARE @PID int;\r\n",
                "select @PID = (select max(PersonID) from PersonalData) + 1;\r\n",
                "INSERT INTO PersonalData VALUES(@PID,@surname,@name,@middleName,@INN,@DepId);\r\n",
                "INSERT INTO PassportData VALUES(@PID,@Spassport,@Npassport,@datepassport,@nameDeppassport);\r\n",
                "DECLARE @StartDate date;\r\n",
                "select @StartDate = CAST(GETDATE() AS DATE);\r\n",
                "INSERT INTO WorkCard VALUES(@PID,@WCNumberOrder,@org,@posID,@StartDate,@finishDate);\r\n",
                "\r\n",
                "\r\n",
                "--exec AddWorker 'john1','john1','john1','1112111111',2,2132,'541443','1972-09-21','dep2',234432,'org1',2,'2022-03-14'\t\r\n",
                "\r\n",
                "\r\n",
                "drop proc AddWorker"
            ],
            "metadata": {
                "azdata_cell_guid": "8a2dd922-6b58-4b7f-a04a-a1f1e53af951"
            },
            "outputs": [],
            "execution_count": 0
        },
        {
            "cell_type": "code",
            "source": [
                "--оновити дату контракту \r\n",
                "CREATE PROC NewDate(\r\n",
                "\t  @newDate DATE,\r\n",
                "\t  @INN VARCHAR(15))\r\n",
                "AS\r\n",
                "IF  NOT EXISTS (SELECT INN FROM PersonalData\r\n",
                "WHERE INN=@INN)\r\n",
                "SELECT 'Person does not exist' AS RESULT\r\n",
                "ELSE\r\n",
                "update WorkCard \r\n",
                "SET FinishDateOfContract = @newDate\r\n",
                "where WorkCardID = (select PersonID from PersonalData\r\n",
                "where INN = @INN);\r\n",
                "\r\n",
                "--exec NewDate '2030-05-14','1274589111'\r\n",
                "DROP PROC NewDate"
            ],
            "metadata": {
                "azdata_cell_guid": "25fe932e-ad3e-42f0-a6ba-2dba8c8743fd"
            },
            "outputs": [],
            "execution_count": 0
        },
        {
            "cell_type": "code",
            "source": [
                "--оновити должность \r\n",
                "CREATE PROC ChangePos(\r\n",
                "\t  @newPosName VARCHAR(20),\r\n",
                "\t  @INN VARCHAR(15))\r\n",
                "AS\r\n",
                "IF  NOT EXISTS (SELECT INN FROM PersonalData\r\n",
                "WHERE INN=@INN)\r\n",
                "SELECT 'Person does not exist' AS RESULT\r\n",
                "IF NOT EXISTS (SELECT PositionName FROM Positions\r\n",
                "WHERE PositionName=@newPosName)\r\n",
                "SELECT 'Position does not exist' AS RESULT\r\n",
                "ELSE\r\n",
                "DECLARE @posID int;\r\n",
                "select @posID = (select PositionID from Positions\r\n",
                "where PositionName = @newPosName);\r\n",
                "DECLARE @workCardID int;\r\n",
                "select @workCardID = (select PersonID from PersonalData\r\n",
                "where INN = @INN);\r\n",
                "update WorkCard \r\n",
                "SET PositionID = @posID\r\n",
                "where WorkCardID = @workCardID;\r\n",
                "\r\n",
                "DROP PROC ChangePos"
            ],
            "metadata": {
                "azdata_cell_guid": "20bb9c92-789e-4f73-916b-d393f961c485"
            },
            "outputs": [],
            "execution_count": 0
        }
    ]
}